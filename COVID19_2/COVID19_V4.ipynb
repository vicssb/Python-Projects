{
 "cells": [
  {
   "cell_type": "code",
   "execution_count": 36,
   "id": "alpine-accuracy",
   "metadata": {},
   "outputs": [
    {
     "data": {
      "text/plain": [
       "'\\nprojeto COVID 19\\n\\n1 – Qual o total de profissionais da Saudade que tomaram a primeira dose de alguma vacina contra a convid-19?\\n\\n2 – Qual o total de profissionais da Saudade vacinados, ou seja, que tomaram a primeira e a segunda dose de alguma vacina contra a convid-19?\\n\\n3 – Qual a porcentagem, em relação ao total de munícipes de Jacareí, que representa os profissionais da Saudade que tomaram a primeira dose de alguma vacina contra a convid-19?\\n\\n4 – Qual a porcentagem, em relação ao total de munícipes de Jacareí, que representa os profissionais da Saudade vacinados contra a convid-19, ou seja, que tomaram a primeira e a segunda dose de alguma vacina contra a covid-19?\\n\\n5 – Qual o total de profissionais da Educação que tomaram a primeira dose de alguma vacina contra a convid-19?\\n\\n6 – Qual o total de profissionais da Educação vacinados, ou seja, que tomaram a primeira e a segunda dose de alguma vacina contra a convid-19?\\n\\n7 – Qual a porcentagem, em relação ao total de munícipes de Jacareí, que representa os profissionais da Educação que tomaram a primeira dose de alguma vacina contra a convid-19?\\n\\n8 – Qual a porcentagem, em relação ao total de munícipes de Jacareí, que representa os profissionais da Educação vacinados contra a convid-19, ou seja, que tomaram a primeira e a segunda dose de alguma vacina contra a covid-19?\\n\\n9 – Qual o total de idosos que tomaram a primeira dose de alguma vacina contra a convid-19?\\n\\n10 – Qual o total de idosos, ou seja, que tomaram a primeira e a segunda dose de alguma vacina contra a convid-19?\\n\\n11 – Qual a porcentagem, em relação ao total de munícipes de Jacareí, que representa os Idosos que tomaram a primeira dose de alguma vacina contra a convid-19?\\n\\n12 – Qual a porcentagem, em relação ao total de munícipes de Jacareí, que representa os Idosos vacinados contra a convid-19, ou seja, que tomaram a primeira e a segunda dose de alguma vacina contra a covid-19?\\n\\n13 – Qual o total de pessoas com comorbidades que tomaram a primeira dose de alguma vacina contra a convid-19?\\n\\n14 – Qual o total de pessoas com comorbidades vacinados, ou seja, que tomaram a primeira e a segunda dose de alguma vacina contra a convid-19?\\n\\n15 – Qual a porcentagem, em relação ao total de munícipes de Jacareí, que representa as pessoas com comorbidades que tomaram a primeira dose de alguma vacina contra a convid-19?\\n\\n16 – Qual a porcentagem, em relação ao total de munícipes de Jacareí, que representa as pessoas com comorbidades vacinados contra a convid-19, ou seja, que tomaram a primeira e a segunda dose de alguma vacina contra a covid-19?\\n\\n17 – Qual o total de vacinas aplicadas e quanto isto representa em porcentagem ao total de vacinas recebidas pelo munícipio de Jacareí?\\n\\n18 – Dado que o município de Jacareí recebeu vacinas de apenas dois laboratórios até o momento, qual o total de vacinas recebidas de cada laboratório e qual o percentual de cada um em relação ao total de vacinas recebidas?'"
      ]
     },
     "execution_count": 36,
     "metadata": {},
     "output_type": "execute_result"
    }
   ],
   "source": [
    "'''\n",
    "projeto COVID 19\n",
    "\n",
    "1 – Qual o total de profissionais da Saudade que tomaram a primeira dose de alguma vacina contra a convid-19?\n",
    "\n",
    "2 – Qual o total de profissionais da Saudade vacinados, ou seja, que tomaram a primeira e a segunda dose de alguma vacina contra a convid-19?\n",
    "\n",
    "3 – Qual a porcentagem, em relação ao total de munícipes de Jacareí, que representa os profissionais da Saudade que tomaram a primeira dose de alguma vacina contra a convid-19?\n",
    "\n",
    "4 – Qual a porcentagem, em relação ao total de munícipes de Jacareí, que representa os profissionais da Saudade vacinados contra a convid-19, ou seja, que tomaram a primeira e a segunda dose de alguma vacina contra a covid-19?\n",
    "\n",
    "5 – Qual o total de profissionais da Educação que tomaram a primeira dose de alguma vacina contra a convid-19?\n",
    "\n",
    "6 – Qual o total de profissionais da Educação vacinados, ou seja, que tomaram a primeira e a segunda dose de alguma vacina contra a convid-19?\n",
    "\n",
    "7 – Qual a porcentagem, em relação ao total de munícipes de Jacareí, que representa os profissionais da Educação que tomaram a primeira dose de alguma vacina contra a convid-19?\n",
    "\n",
    "8 – Qual a porcentagem, em relação ao total de munícipes de Jacareí, que representa os profissionais da Educação vacinados contra a convid-19, ou seja, que tomaram a primeira e a segunda dose de alguma vacina contra a covid-19?\n",
    "\n",
    "9 – Qual o total de idosos que tomaram a primeira dose de alguma vacina contra a convid-19?\n",
    "\n",
    "10 – Qual o total de idosos, ou seja, que tomaram a primeira e a segunda dose de alguma vacina contra a convid-19?\n",
    "\n",
    "11 – Qual a porcentagem, em relação ao total de munícipes de Jacareí, que representa os Idosos que tomaram a primeira dose de alguma vacina contra a convid-19?\n",
    "\n",
    "12 – Qual a porcentagem, em relação ao total de munícipes de Jacareí, que representa os Idosos vacinados contra a convid-19, ou seja, que tomaram a primeira e a segunda dose de alguma vacina contra a covid-19?\n",
    "\n",
    "13 – Qual o total de pessoas com comorbidades que tomaram a primeira dose de alguma vacina contra a convid-19?\n",
    "\n",
    "14 – Qual o total de pessoas com comorbidades vacinados, ou seja, que tomaram a primeira e a segunda dose de alguma vacina contra a convid-19?\n",
    "\n",
    "15 – Qual a porcentagem, em relação ao total de munícipes de Jacareí, que representa as pessoas com comorbidades que tomaram a primeira dose de alguma vacina contra a convid-19?\n",
    "\n",
    "16 – Qual a porcentagem, em relação ao total de munícipes de Jacareí, que representa as pessoas com comorbidades vacinados contra a convid-19, ou seja, que tomaram a primeira e a segunda dose de alguma vacina contra a covid-19?\n",
    "\n",
    "17 – Qual o total de vacinas aplicadas e quanto isto representa em porcentagem ao total de vacinas recebidas pelo munícipio de Jacareí?\n",
    "\n",
    "18 – Dado que o município de Jacareí recebeu vacinas de apenas dois laboratórios até o momento, qual o total de vacinas recebidas de cada laboratório e qual o percentual de cada um em relação ao total de vacinas recebidas?'''"
   ]
  },
  {
   "cell_type": "code",
   "execution_count": 37,
   "id": "charming-mercury",
   "metadata": {},
   "outputs": [
    {
     "name": "stdout",
     "output_type": "stream",
     "text": [
      "COVID 19\n"
     ]
    }
   ],
   "source": [
    "print('COVID 19')"
   ]
  },
  {
   "cell_type": "code",
   "execution_count": 38,
   "id": "authorized-upset",
   "metadata": {},
   "outputs": [],
   "source": [
    "import pandas as pd"
   ]
  },
  {
   "cell_type": "code",
   "execution_count": 39,
   "id": "dramatic-soundtrack",
   "metadata": {},
   "outputs": [],
   "source": [
    "#constante\n",
    "POPULACAO = 235416"
   ]
  },
  {
   "cell_type": "code",
   "execution_count": 40,
   "id": "public-budapest",
   "metadata": {},
   "outputs": [],
   "source": [
    "#calcula a porcentagem em relação a população\n",
    "def percentual(valor):\n",
    "    perc = (valor * 100) / POPULACAO\n",
    "    return perc"
   ]
  },
  {
   "cell_type": "code",
   "execution_count": 41,
   "id": "excessive-longer",
   "metadata": {},
   "outputs": [
    {
     "name": "stdout",
     "output_type": "stream",
     "text": [
      "Valores lidos:\n",
      "             CORO 1        CORO 2       ASTRA 1      ASTRA 2      SAUDE 1  \\\n",
      "count     43.000000     43.000000     43.000000    43.000000    43.000000   \n",
      "mean   25427.116279  22212.000000  19356.093023  2283.255814  7008.255814   \n",
      "std     1558.757705   5614.660656  12955.856197  1655.276874   291.262612   \n",
      "min    20482.000000   9732.000000   4220.000000     0.000000  6685.000000   \n",
      "25%    23972.000000  20492.000000   6160.000000     0.000000  6688.000000   \n",
      "50%    26182.000000  22222.000000  20445.000000  2300.000000  6940.000000   \n",
      "75%    26182.000000  26192.000000  30579.000000  4220.000000  7153.000000   \n",
      "max    26742.000000  29402.000000  43894.000000  4220.000000  7665.000000   \n",
      "\n",
      "           SAUDE 2       EDUC 1      EDUC 2       IDOSO 1       IDOSO 2  ...  \\\n",
      "count    43.000000    43.000000    43.00000     43.000000     43.000000  ...   \n",
      "mean   5616.162791  1197.697674   561.27907  29032.279070  15146.930233  ...   \n",
      "std     906.511443   537.389038   702.35608   7348.725582   4265.417131  ...   \n",
      "min    4359.000000     0.000000     0.00000  17844.000000   5422.000000  ...   \n",
      "25%    4464.500000  1431.000000     0.00000  21182.000000  13189.500000  ...   \n",
      "50%    5828.000000  1431.000000     0.00000  28996.000000  17259.000000  ...   \n",
      "75%    6502.500000  1435.000000  1416.50000  36296.000000  17889.500000  ...   \n",
      "max    6841.000000  1552.000000  1432.00000  36687.000000  20112.000000  ...   \n",
      "\n",
      "       Unnamed: 16  Unnamed: 17  Unnamed: 18  Unnamed: 19  Unnamed: 20  \\\n",
      "count          0.0          0.0          0.0          0.0          0.0   \n",
      "mean           NaN          NaN          NaN          NaN          NaN   \n",
      "std            NaN          NaN          NaN          NaN          NaN   \n",
      "min            NaN          NaN          NaN          NaN          NaN   \n",
      "25%            NaN          NaN          NaN          NaN          NaN   \n",
      "50%            NaN          NaN          NaN          NaN          NaN   \n",
      "75%            NaN          NaN          NaN          NaN          NaN   \n",
      "max            NaN          NaN          NaN          NaN          NaN   \n",
      "\n",
      "       Unnamed: 21  Unnamed: 22  Unnamed: 23  Unnamed: 24  Unnamed: 25  \n",
      "count          0.0          0.0          0.0          0.0         4.00  \n",
      "mean           NaN          NaN          NaN          NaN     17260.25  \n",
      "std            NaN          NaN          NaN          NaN         2.50  \n",
      "min            NaN          NaN          NaN          NaN     17259.00  \n",
      "25%            NaN          NaN          NaN          NaN     17259.00  \n",
      "50%            NaN          NaN          NaN          NaN     17259.00  \n",
      "75%            NaN          NaN          NaN          NaN     17260.25  \n",
      "max            NaN          NaN          NaN          NaN     17264.00  \n",
      "\n",
      "[8 rows x 25 columns]\n",
      "RangeIndex(start=0, stop=43, step=1)\n"
     ]
    }
   ],
   "source": [
    "#leitura do arquivo de texto\n",
    "valores = pd.read_csv(\"COVID19.CSV\", ';')\n",
    "print('Valores lidos:')\n",
    "print(valores)\n",
    "print(valores.describe())\n",
    "print(valores.index)"
   ]
  },
  {
   "cell_type": "code",
   "execution_count": 42,
   "id": "running-focus",
   "metadata": {},
   "outputs": [
    {
     "name": "stdout",
     "output_type": "stream",
     "text": [
      "1 – Qual o total de profissionais da Saudade que tomaram a primeira dose de alguma vacina contra a convid-19?\n",
      "301355\n"
     ]
    }
   ],
   "source": [
    "print('1 – Qual o total de profissionais da Saudade que tomaram a primeira dose de alguma vacina contra a convid-19?')\n",
    "print(valores['SAUDE 1'].sum())"
   ]
  },
  {
   "cell_type": "code",
   "execution_count": 43,
   "id": "noticed-statement",
   "metadata": {},
   "outputs": [
    {
     "name": "stdout",
     "output_type": "stream",
     "text": [
      "2 – Qual o total de profissionais da Saudade vacinados, ou seja, que tomaram a primeira e a segunda dose de alguma vacina contra a convid-19?\n",
      "542850\n"
     ]
    }
   ],
   "source": [
    "print('2 – Qual o total de profissionais da Saudade vacinados, ou seja, que tomaram a primeira e a segunda dose de alguma vacina contra a convid-19?')\n",
    "print(valores['SAUDE 1'].sum() + valores['SAUDE 2'].sum())"
   ]
  },
  {
   "cell_type": "code",
   "execution_count": 44,
   "id": "imposed-script",
   "metadata": {},
   "outputs": [
    {
     "name": "stdout",
     "output_type": "stream",
     "text": [
      "3 – Qual a porcentagem, em relação ao total de munícipes de Jacareí, que representa os profissionais da Saudade que tomaram a primeira dose de alguma vacina contra a convid-19?\n",
      "A porcentagem é: 128.01 %\n"
     ]
    }
   ],
   "source": [
    "print('3 – Qual a porcentagem, em relação ao total de munícipes de Jacareí, que representa os profissionais da Saudade que tomaram a primeira dose de alguma vacina contra a convid-19?')\n",
    "print(\"A porcentagem é: {:.2f} %\".format(percentual(valores['SAUDE 1'].sum())))"
   ]
  },
  {
   "cell_type": "code",
   "execution_count": 45,
   "id": "center-quantum",
   "metadata": {},
   "outputs": [
    {
     "name": "stdout",
     "output_type": "stream",
     "text": [
      "4 – Qual a porcentagem, em relação ao total de munícipes de Jacareí, que representa os profissionais da Saudade vacinados contra a convid-19, ou seja, que tomaram a primeira e a segunda dose de alguma vacina contra a covid-19?\n",
      "A porcentagem é: 230.59 %\n"
     ]
    }
   ],
   "source": [
    "print('4 – Qual a porcentagem, em relação ao total de munícipes de Jacareí, que representa os profissionais da Saudade vacinados contra a convid-19, ou seja, que tomaram a primeira e a segunda dose de alguma vacina contra a covid-19?')\n",
    "print(\"A porcentagem é: {:.2f} %\".format(percentual(valores['SAUDE 1'].sum() + valores['SAUDE 2'].sum())))"
   ]
  },
  {
   "cell_type": "code",
   "execution_count": 46,
   "id": "minor-acceptance",
   "metadata": {},
   "outputs": [
    {
     "name": "stdout",
     "output_type": "stream",
     "text": [
      "5 – Qual o total de profissionais da Educação que tomaram a primeira dose de alguma vacina contra a convid-19?\n",
      "51501\n"
     ]
    }
   ],
   "source": [
    "print('5 – Qual o total de profissionais da Educação que tomaram a primeira dose de alguma vacina contra a convid-19?')\n",
    "print(valores['EDUC 1'].sum())"
   ]
  },
  {
   "cell_type": "code",
   "execution_count": 47,
   "id": "equivalent-collins",
   "metadata": {},
   "outputs": [
    {
     "name": "stdout",
     "output_type": "stream",
     "text": [
      "6 – Qual o total de profissionais da Educação vacinados, ou seja, que tomaram a primeira e a segunda dose de alguma vacina contra a convid-19?\n",
      "75636\n"
     ]
    }
   ],
   "source": [
    "print('6 – Qual o total de profissionais da Educação vacinados, ou seja, que tomaram a primeira e a segunda dose de alguma vacina contra a convid-19?')\n",
    "print(valores['EDUC 1'].sum() + valores['EDUC 2'].sum())"
   ]
  },
  {
   "cell_type": "code",
   "execution_count": 48,
   "id": "massive-darwin",
   "metadata": {},
   "outputs": [
    {
     "name": "stdout",
     "output_type": "stream",
     "text": [
      "7 – Qual a porcentagem, em relação ao total de munícipes de Jacareí, que representa os profissionais da Educação que tomaram a primeira dose de alguma vacina contra a convid-19?\n",
      "A porcentagem é: 21.88 %\n"
     ]
    }
   ],
   "source": [
    "print('7 – Qual a porcentagem, em relação ao total de munícipes de Jacareí, que representa os profissionais da Educação que tomaram a primeira dose de alguma vacina contra a convid-19?')\n",
    "print(\"A porcentagem é: {:.2f} %\".format(percentual(valores['EDUC 1'].sum())))"
   ]
  },
  {
   "cell_type": "code",
   "execution_count": 49,
   "id": "polish-defeat",
   "metadata": {},
   "outputs": [
    {
     "name": "stdout",
     "output_type": "stream",
     "text": [
      "8 – Qual a porcentagem, em relação ao total de munícipes de Jacareí, que representa os profissionais da Educação vacinados contra a convid-19, ou seja, que tomaram a primeira e a segunda dose de alguma vacina contra a covid-19?\n",
      "A porcentagem é: 32.13 %\n"
     ]
    }
   ],
   "source": [
    "print('8 – Qual a porcentagem, em relação ao total de munícipes de Jacareí, que representa os profissionais da Educação vacinados contra a convid-19, ou seja, que tomaram a primeira e a segunda dose de alguma vacina contra a covid-19?')\n",
    "print(\"A porcentagem é: {:.2f} %\".format(percentual(valores['EDUC 1'].sum() + valores['EDUC 2'].sum())))"
   ]
  },
  {
   "cell_type": "code",
   "execution_count": 50,
   "id": "still-return",
   "metadata": {},
   "outputs": [
    {
     "name": "stdout",
     "output_type": "stream",
     "text": [
      "9 – Qual o total de idosos que tomaram a primeira dose de alguma vacina contra a convid-19?\n",
      "1248388\n"
     ]
    }
   ],
   "source": [
    "print('9 – Qual o total de idosos que tomaram a primeira dose de alguma vacina contra a convid-19?')\n",
    "print(valores['IDOSO 1'].sum())"
   ]
  },
  {
   "cell_type": "code",
   "execution_count": 51,
   "id": "skilled-mason",
   "metadata": {},
   "outputs": [
    {
     "name": "stdout",
     "output_type": "stream",
     "text": [
      "10 – Qual o total de idosos, ou seja, que tomaram a primeira e a segunda dose de alguma vacina contra a convid-19?\n",
      "1899706\n"
     ]
    }
   ],
   "source": [
    "print('10 – Qual o total de idosos, ou seja, que tomaram a primeira e a segunda dose de alguma vacina contra a convid-19?')\n",
    "print(valores['IDOSO 1'].sum() + valores['IDOSO 2'].sum())"
   ]
  },
  {
   "cell_type": "code",
   "execution_count": 52,
   "id": "fundamental-judges",
   "metadata": {},
   "outputs": [
    {
     "name": "stdout",
     "output_type": "stream",
     "text": [
      "11 – Qual a porcentagem, em relação ao total de munícipes de Jacareí, que representa os Idosos que tomaram a primeira dose de alguma vacina contra a convid-19?\n",
      "530.2902096713902\n"
     ]
    }
   ],
   "source": [
    "print('11 – Qual a porcentagem, em relação ao total de munícipes de Jacareí, que representa os Idosos que tomaram a primeira dose de alguma vacina contra a convid-19?')\n",
    "print(percentual(valores['IDOSO 1'].sum()))"
   ]
  },
  {
   "cell_type": "code",
   "execution_count": 53,
   "id": "novel-error",
   "metadata": {},
   "outputs": [
    {
     "name": "stdout",
     "output_type": "stream",
     "text": [
      "12 – Qual a porcentagem, em relação ao total de munícipes de Jacareí, que representa os Idosos vacinados contra a convid-19, ou seja, que tomaram a primeira e a segunda dose de alguma vacina contra a covid-19?\n",
      "A porcentagem é: 806.96 %\n"
     ]
    }
   ],
   "source": [
    "print('12 – Qual a porcentagem, em relação ao total de munícipes de Jacareí, que representa os Idosos vacinados contra a convid-19, ou seja, que tomaram a primeira e a segunda dose de alguma vacina contra a covid-19?')\n",
    "print(\"A porcentagem é: {:.2f} %\".format(percentual(valores['IDOSO 1'].sum() + valores['IDOSO 2'].sum())))"
   ]
  },
  {
   "cell_type": "code",
   "execution_count": 54,
   "id": "junior-consensus",
   "metadata": {},
   "outputs": [
    {
     "name": "stdout",
     "output_type": "stream",
     "text": [
      "13 – Qual o total de pessoas com comorbidades que tomaram a primeira dose de alguma vacina contra a convid-19?\n",
      "Total recebido:  146315\n"
     ]
    }
   ],
   "source": [
    "print('13 – Qual o total de pessoas com comorbidades que tomaram a primeira dose de alguma vacina contra a convid-19?')\n",
    "total_recebido = valores['CORMOB 1'].sum()\n",
    "print('Total recebido: ', total_recebido)"
   ]
  },
  {
   "cell_type": "code",
   "execution_count": 55,
   "id": "fatal-albuquerque",
   "metadata": {},
   "outputs": [
    {
     "name": "stdout",
     "output_type": "stream",
     "text": [
      "14 – Qual o total de pessoas com comorbidades vacinados, ou seja, que tomaram a primeira e a segunda dose de alguma vacina contra a convid-19?\n",
      "Total recebido:  146321\n"
     ]
    }
   ],
   "source": [
    "print('14 – Qual o total de pessoas com comorbidades vacinados, ou seja, que tomaram a primeira e a segunda dose de alguma vacina contra a convid-19?')\n",
    "total_recebido = valores['CORMOB 1'].sum() + valores['CORMOB 2'].sum()\n",
    "print('Total recebido: ', total_recebido)"
   ]
  },
  {
   "cell_type": "code",
   "execution_count": 56,
   "id": "mexican-protest",
   "metadata": {},
   "outputs": [
    {
     "name": "stdout",
     "output_type": "stream",
     "text": [
      "15 – Qual a porcentagem, em relação ao total de munícipes de Jacareí, que representa as pessoas com comorbidades que tomaram a primeira dose de alguma vacina contra a convid-19?\n",
      "A porcentagem, em relação ao total de munícipes de Jacareí: 62.15 %\n"
     ]
    }
   ],
   "source": [
    "print('15 – Qual a porcentagem, em relação ao total de munícipes de Jacareí, que representa as pessoas com comorbidades que tomaram a primeira dose de alguma vacina contra a convid-19?')\n",
    "porcentagem = percentual(valores['CORMOB 1'].sum())\n",
    "print(\"A porcentagem, em relação ao total de munícipes de Jacareí: {:.2f} %\".format(porcentagem))"
   ]
  },
  {
   "cell_type": "code",
   "execution_count": 57,
   "id": "soviet-junction",
   "metadata": {},
   "outputs": [
    {
     "name": "stdout",
     "output_type": "stream",
     "text": [
      "16 – Qual a porcentagem, em relação ao total de munícipes de Jacareí, que representa as pessoas com comorbidades vacinados contra a convid-19, ou seja, que tomaram a primeira e a segunda dose de alguma vacina contra a covid-19?\n",
      "A porcentagem, em relação ao total de munícipes de Jacareí: 62.15 %\n"
     ]
    }
   ],
   "source": [
    "print('16 – Qual a porcentagem, em relação ao total de munícipes de Jacareí, que representa as pessoas com comorbidades vacinados contra a convid-19, ou seja, que tomaram a primeira e a segunda dose de alguma vacina contra a covid-19?')\n",
    "porcentagem = percentual(valores['CORMOB 1'].sum() + valores['CORMOB 2'].sum())\n",
    "print(\"A porcentagem, em relação ao total de munícipes de Jacareí: {:.2f} %\".format(porcentagem))"
   ]
  },
  {
   "cell_type": "code",
   "execution_count": 58,
   "id": "static-keeping",
   "metadata": {},
   "outputs": [
    {
     "name": "stdout",
     "output_type": "stream",
     "text": [
      "17 – Qual o total de vacinas aplicadas e quanto isto representa em porcentagem ao total de vacinas recebidas pelo munícipio de Jacareí?\n",
      "total_aplicado:  2518192\n",
      "Total recebido:  2978974\n",
      "Percentual: 84.53 %\n"
     ]
    }
   ],
   "source": [
    "print('17 – Qual o total de vacinas aplicadas e quanto isto representa em porcentagem ao total de vacinas recebidas pelo munícipio de Jacareí?')\n",
    "total_aplicado = valores['SAUDE 1'].sum() + valores['SAUDE 2'].sum() + valores['EDUC 1'].sum() + valores['EDUC 2'].sum() + valores['IDOSO 1'].sum() + valores['IDOSO 2'].sum()\n",
    "print('total_aplicado: ',  total_aplicado)\n",
    "total_recebido = valores['CORO 1'].sum() + valores['CORO 2'].sum() + valores['ASTRA 1'].sum() + valores['ASTRA 2'].sum()\n",
    "print('Total recebido: ', total_recebido)\n",
    "print('Percentual: {:.2f} %'.format( total_aplicado*100/total_recebido, ' %'))"
   ]
  },
  {
   "cell_type": "code",
   "execution_count": 59,
   "id": "authentic-parade",
   "metadata": {},
   "outputs": [
    {
     "name": "stdout",
     "output_type": "stream",
     "text": [
      "18 – Dado que o município de Jacareí recebeu vacinas de apenas dois laboratórios até o momento, qual o total de vacinas recebidas de cada laboratório e qual o percentual de cada um em relação ao total de vacinas recebidas?\n",
      "Total recebido: 2978974\n",
      "Total recebido:  2978974\n",
      "Total recebido: 2,978,974\n",
      "Total recebido: 2.978.974\n",
      "Total recebido de Coronavac:  2048482\n",
      "Total recebido de Astrazenica:  930492\n",
      "Percentual de Coronavac: 68.76 %\n",
      "Percentual de Astrazenica: 31.24 %\n"
     ]
    }
   ],
   "source": [
    "print('18 – Dado que o município de Jacareí recebeu vacinas de apenas dois laboratórios até o momento, qual o total de vacinas recebidas de cada laboratório e qual o percentual de cada um em relação ao total de vacinas recebidas?')\n",
    "total_recebido = valores['CORO 1'].sum() + valores['CORO 2'].sum() + valores['ASTRA 1'].sum() + valores['ASTRA 2'].sum()\n",
    "\n",
    "print('Total recebido: %d'% total_recebido)\n",
    "print('Total recebido: ', total_recebido)\n",
    "\n",
    "# FORMATAÇÃO DE NUMERO PARA O PADRÃO BRASILEIRO\n",
    "\n",
    "print('Total recebido: {0:,}'.format(total_recebido))\n",
    "print('Total recebido: {0:,}'.format(total_recebido).replace(',','.'))\n",
    "\n",
    "total_recebido_CORO = valores['CORO 1'].sum() + valores['CORO 2'].sum()\n",
    "print('Total recebido de Coronavac: ', total_recebido_CORO)\n",
    "\n",
    "total_recebido_ASTRA = valores['ASTRA 1'].sum() + valores['ASTRA 2'].sum()\n",
    "print('Total recebido de Astrazenica: ', total_recebido_ASTRA)\n",
    "\n",
    "\n",
    "print('Percentual de Coronavac: {:.2f} %'.format(total_recebido_CORO*100/total_recebido, ' %'))\n",
    "print('Percentual de Astrazenica: {:.2f} %'.format( total_recebido_ASTRA*100/total_recebido, ' %'))\n"
   ]
  },
  {
   "cell_type": "code",
   "execution_count": null,
   "id": "swiss-fireplace",
   "metadata": {},
   "outputs": [],
   "source": []
  }
 ],
 "metadata": {
  "kernelspec": {
   "display_name": "Python 3",
   "language": "python",
   "name": "python3"
  },
  "language_info": {
   "codemirror_mode": {
    "name": "ipython",
    "version": 3
   },
   "file_extension": ".py",
   "mimetype": "text/x-python",
   "name": "python",
   "nbconvert_exporter": "python",
   "pygments_lexer": "ipython3",
   "version": "3.7.8"
  }
 },
 "nbformat": 4,
 "nbformat_minor": 5
}
