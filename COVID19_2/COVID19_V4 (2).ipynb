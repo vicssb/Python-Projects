{
 "cells": [
  {
   "cell_type": "code",
   "execution_count": 49,
   "id": "fourth-bunny",
   "metadata": {},
   "outputs": [
    {
     "data": {
      "text/plain": [
       "'\\nprojeto COVID 19\\n\\n1 – Qual o total de profissionais da Saudade que tomaram a primeira dose de alguma vacina contra a convid-19?\\n\\n2 – Qual o total de profissionais da Saudade vacinados, ou seja, que tomaram a primeira e a segunda dose de alguma vacina contra a convid-19?\\n\\n3 – Qual a porcentagem, em relação ao total de munícipes de Jacareí, que representa os profissionais da Saudade que tomaram a primeira dose de alguma vacina contra a convid-19?\\n\\n4 – Qual a porcentagem, em relação ao total de munícipes de Jacareí, que representa os profissionais da Saudade vacinados contra a convid-19, ou seja, que tomaram a primeira e a segunda dose de alguma vacina contra a covid-19?\\n\\n5 – Qual o total de profissionais da Educação que tomaram a primeira dose de alguma vacina contra a convid-19?\\n\\n6 – Qual o total de profissionais da Educação vacinados, ou seja, que tomaram a primeira e a segunda dose de alguma vacina contra a convid-19?\\n\\n7 – Qual a porcentagem, em relação ao total de munícipes de Jacareí, que representa os profissionais da Educação que tomaram a primeira dose de alguma vacina contra a convid-19?\\n\\n8 – Qual a porcentagem, em relação ao total de munícipes de Jacareí, que representa os profissionais da Educação vacinados contra a convid-19, ou seja, que tomaram a primeira e a segunda dose de alguma vacina contra a covid-19?\\n\\n9 – Qual o total de idosos que tomaram a primeira dose de alguma vacina contra a convid-19?\\n\\n10 – Qual o total de idosos, ou seja, que tomaram a primeira e a segunda dose de alguma vacina contra a convid-19?\\n\\n11 – Qual a porcentagem, em relação ao total de munícipes de Jacareí, que representa os Idosos que tomaram a primeira dose de alguma vacina contra a convid-19?\\n\\n12 – Qual a porcentagem, em relação ao total de munícipes de Jacareí, que representa os Idosos vacinados contra a convid-19, ou seja, que tomaram a primeira e a segunda dose de alguma vacina contra a covid-19?\\n\\n13 – Qual o total de pessoas com comorbidades que tomaram a primeira dose de alguma vacina contra a convid-19?\\n\\n14 – Qual o total de pessoas com comorbidades vacinados, ou seja, que tomaram a primeira e a segunda dose de alguma vacina contra a convid-19?\\n\\n15 – Qual a porcentagem, em relação ao total de munícipes de Jacareí, que representa as pessoas com comorbidades que tomaram a primeira dose de alguma vacina contra a convid-19?\\n\\n16 – Qual a porcentagem, em relação ao total de munícipes de Jacareí, que representa as pessoas com comorbidades vacinados contra a convid-19, ou seja, que tomaram a primeira e a segunda dose de alguma vacina contra a covid-19?\\n\\n17 – Qual o total de vacinas aplicadas e quanto isto representa em porcentagem ao total de vacinas recebidas pelo munícipio de Jacareí?\\n\\n18 – Dado que o município de Jacareí recebeu vacinas de apenas dois laboratórios até o momento, qual o total de vacinas recebidas de cada laboratório e qual o percentual de cada um em relação ao total de vacinas recebidas?'"
      ]
     },
     "execution_count": 49,
     "metadata": {},
     "output_type": "execute_result"
    }
   ],
   "source": [
    "'''\n",
    "projeto COVID 19\n",
    "\n",
    "1 – Qual o total de profissionais da Saudade que tomaram a primeira dose de alguma vacina contra a convid-19?\n",
    "\n",
    "2 – Qual o total de profissionais da Saudade vacinados, ou seja, que tomaram a primeira e a segunda dose de alguma vacina contra a convid-19?\n",
    "\n",
    "3 – Qual a porcentagem, em relação ao total de munícipes de Jacareí, que representa os profissionais da Saudade que tomaram a primeira dose de alguma vacina contra a convid-19?\n",
    "\n",
    "4 – Qual a porcentagem, em relação ao total de munícipes de Jacareí, que representa os profissionais da Saudade vacinados contra a convid-19, ou seja, que tomaram a primeira e a segunda dose de alguma vacina contra a covid-19?\n",
    "\n",
    "5 – Qual o total de profissionais da Educação que tomaram a primeira dose de alguma vacina contra a convid-19?\n",
    "\n",
    "6 – Qual o total de profissionais da Educação vacinados, ou seja, que tomaram a primeira e a segunda dose de alguma vacina contra a convid-19?\n",
    "\n",
    "7 – Qual a porcentagem, em relação ao total de munícipes de Jacareí, que representa os profissionais da Educação que tomaram a primeira dose de alguma vacina contra a convid-19?\n",
    "\n",
    "8 – Qual a porcentagem, em relação ao total de munícipes de Jacareí, que representa os profissionais da Educação vacinados contra a convid-19, ou seja, que tomaram a primeira e a segunda dose de alguma vacina contra a covid-19?\n",
    "\n",
    "9 – Qual o total de idosos que tomaram a primeira dose de alguma vacina contra a convid-19?\n",
    "\n",
    "10 – Qual o total de idosos, ou seja, que tomaram a primeira e a segunda dose de alguma vacina contra a convid-19?\n",
    "\n",
    "11 – Qual a porcentagem, em relação ao total de munícipes de Jacareí, que representa os Idosos que tomaram a primeira dose de alguma vacina contra a convid-19?\n",
    "\n",
    "12 – Qual a porcentagem, em relação ao total de munícipes de Jacareí, que representa os Idosos vacinados contra a convid-19, ou seja, que tomaram a primeira e a segunda dose de alguma vacina contra a covid-19?\n",
    "\n",
    "13 – Qual o total de pessoas com comorbidades que tomaram a primeira dose de alguma vacina contra a convid-19?\n",
    "\n",
    "14 – Qual o total de pessoas com comorbidades vacinados, ou seja, que tomaram a primeira e a segunda dose de alguma vacina contra a convid-19?\n",
    "\n",
    "15 – Qual a porcentagem, em relação ao total de munícipes de Jacareí, que representa as pessoas com comorbidades que tomaram a primeira dose de alguma vacina contra a convid-19?\n",
    "\n",
    "16 – Qual a porcentagem, em relação ao total de munícipes de Jacareí, que representa as pessoas com comorbidades vacinados contra a convid-19, ou seja, que tomaram a primeira e a segunda dose de alguma vacina contra a covid-19?\n",
    "\n",
    "17 – Qual o total de vacinas aplicadas e quanto isto representa em porcentagem ao total de vacinas recebidas pelo munícipio de Jacareí?\n",
    "\n",
    "18 – Dado que o município de Jacareí recebeu vacinas de apenas dois laboratórios até o momento, qual o total de vacinas recebidas de cada laboratório e qual o percentual de cada um em relação ao total de vacinas recebidas?'''"
   ]
  },
  {
   "cell_type": "code",
   "execution_count": 50,
   "id": "efficient-intent",
   "metadata": {},
   "outputs": [
    {
     "name": "stdout",
     "output_type": "stream",
     "text": [
      "COVID 19\n"
     ]
    }
   ],
   "source": [
    "print('COVID 19')"
   ]
  },
  {
   "cell_type": "code",
   "execution_count": 51,
   "id": "electric-roommate",
   "metadata": {},
   "outputs": [],
   "source": [
    "import pandas as pd"
   ]
  },
  {
   "cell_type": "code",
   "execution_count": 52,
   "id": "pending-example",
   "metadata": {},
   "outputs": [],
   "source": [
    "#constante\n",
    "POPULACAO = 235416"
   ]
  },
  {
   "cell_type": "code",
   "execution_count": 53,
   "id": "restricted-destination",
   "metadata": {},
   "outputs": [],
   "source": [
    "#Função para calcula a porcentagem em relação a população\n",
    "def percentual(valor):\n",
    "    perc = (valor * 100) / POPULACAO\n",
    "    return perc"
   ]
  },
  {
   "cell_type": "code",
   "execution_count": 73,
   "id": "eligible-demonstration",
   "metadata": {},
   "outputs": [
    {
     "name": "stdout",
     "output_type": "stream",
     "text": [
      "Valores lidos:\n",
      "      DATA  CORO 1  T_CORO 1  CORO 2  T_CORO 2  ASTRA 1  T_ASTRA 1  ASTRA 2  \\\n",
      "0   01/abr     0.0   20482.0     0.0     9.732      0.0      4.220      0.0   \n",
      "1   05/abr  1730.0   22212.0  2160.0    11.892      0.0      4.220      0.0   \n",
      "2   06/abr     0.0   22212.0     0.0    11.892      0.0      4.220      0.0   \n",
      "3   07/abr     0.0   22212.0     0.0    11.892      0.0      4.220      0.0   \n",
      "4   08/abr  1760.0   23972.0     0.0    11.892      0.0      4.220      0.0   \n",
      "5   09/abr     0.0   23972.0  3820.0    15.712      0.0      4.220      0.0   \n",
      "6   12/abr     0.0   23972.0     0.0    15.712      0.0      4.220      0.0   \n",
      "7   13/abr     0.0   23972.0     0.0    15.712      0.0      4.220      0.0   \n",
      "8   14/abr     0.0   23972.0     0.0    15.712      0.0      4.220      0.0   \n",
      "9   15/abr     0.0   23972.0  4780.0    20.492   1940.0      6.160      0.0   \n",
      "10  16/abr     0.0   23972.0     0.0    20.492      0.0      6.160      0.0   \n",
      "11  19/abr     0.0   23972.0     0.0    20.492      0.0      6.160      0.0   \n",
      "12  20/abr     0.0   23972.0     0.0    20.492   4230.0     10.390   2300.0   \n",
      "13  22/abr  2210.0   26182.0     0.0    20.492      0.0     10.390      0.0   \n",
      "14  23/abr     0.0   26182.0     0.0    20.492      0.0     10.390      0.0   \n",
      "15  26/abr     0.0   26182.0     0.0    20.492      0.0     10.390      0.0   \n",
      "16  27/abr     0.0   26182.0     0.0    20.492      0.0     10.390      0.0   \n",
      "17  28/abr     0.0   26182.0  1730.0    22.222   2300.0     12.690      0.0   \n",
      "18  29/abr     0.0   26182.0     0.0    22.222      0.0     12.690      0.0   \n",
      "19  30/abr     0.0   26182.0     0.0    22.222      0.0     12.690      0.0   \n",
      "20  03/mai     0.0   26182.0     0.0    22.222      0.0     12.690      0.0   \n",
      "21  04/mai     0.0   26182.0     0.0    22.222   7755.0     20.445      0.0   \n",
      "22  05/mai     0.0   26182.0  1320.0    23.542      0.0     20.445      0.0   \n",
      "23  06/mai     0.0   26182.0     0.0    23.542      0.0     20.445      0.0   \n",
      "24  07/mai     0.0   26182.0     0.0    23.542      0.0     20.445      0.0   \n",
      "25  10/mai     0.0   26182.0   440.0    23.982   5444.0     25.889      0.0   \n",
      "26  11/mai     0.0   26182.0     0.0    23.982      0.0     25.889      0.0   \n",
      "27  12/mai     0.0   26182.0     0.0    23.982      0.0     25.889      0.0   \n",
      "28  13/mai     0.0   26182.0     0.0    23.982      0.0     25.889      0.0   \n",
      "29  14/mai     0.0   26182.0     0.0    23.982      0.0     25.889   1920.0   \n",
      "30  17/mai     0.0   26182.0  2210.0    26.192   4560.0     30.449      0.0   \n",
      "31  19/mai     0.0   26182.0     0.0    26.192    130.0     30.579      0.0   \n",
      "32  20/mai     0.0   26182.0     0.0    26.192      0.0     30.579      0.0   \n",
      "33  21/mai     0.0   26182.0     0.0    26.192      0.0     30.579      0.0   \n",
      "34  24/mai   560.0   26742.0  3210.0    29.402   3765.0     34.344      0.0   \n",
      "35  25/mai     0.0   26742.0     0.0    29.402      0.0     34.344      0.0   \n",
      "36  26/mai     0.0   26742.0     0.0    29.402      0.0     34.344      0.0   \n",
      "37  27/mai     0.0   26742.0     0.0    29.402      0.0     34.344      0.0   \n",
      "38  28/mai     0.0   26742.0     0.0    29.402   3845.0     38.189      0.0   \n",
      "39  31/mai     0.0   26742.0     0.0    29.402      0.0     38.189      0.0   \n",
      "40  01/jun     0.0   26742.0     0.0    29.402      0.0     38.189      0.0   \n",
      "41  02/jun     0.0   26742.0     0.0    29.402   5705.0     43.894      0.0   \n",
      "42  04/jun     0.0   26742.0     0.0    29.402      0.0     43.894      0.0   \n",
      "43     NaN     NaN       NaN     NaN       NaN      NaN        NaN      NaN   \n",
      "\n",
      "    T_ASTRA 2  SAUDE 1  ...  Unnamed: 30  Unnamed: 31  Unnamed: 32  \\\n",
      "0        0.00      0.0  ...          NaN          NaN          NaN   \n",
      "1        0.00      1.0  ...          NaN          NaN          NaN   \n",
      "2        0.00      2.0  ...          NaN          NaN          NaN   \n",
      "3        0.00      0.0  ...          NaN          NaN          NaN   \n",
      "4        0.00      0.0  ...          NaN          NaN          NaN   \n",
      "5        0.00      0.0  ...          NaN          NaN          NaN   \n",
      "6        0.00      0.0  ...          NaN          NaN          NaN   \n",
      "7        0.00      0.0  ...          NaN          NaN          NaN   \n",
      "8        0.00      0.0  ...          NaN          NaN          NaN   \n",
      "9        0.00      0.0  ...          NaN          NaN          NaN   \n",
      "10       0.00      0.0  ...          NaN          NaN          NaN   \n",
      "11       0.00      0.0  ...          NaN          NaN          NaN   \n",
      "12       2.30      0.0  ...          NaN          NaN          NaN   \n",
      "13       2.30    251.0  ...          NaN          NaN          NaN   \n",
      "14       2.30      0.0  ...          NaN          NaN          NaN   \n",
      "15       2.30      0.0  ...          NaN          NaN          NaN   \n",
      "16       2.30      0.0  ...          NaN          NaN          NaN   \n",
      "17       2.30      0.0  ...          NaN          NaN          NaN   \n",
      "18       2.30      0.0  ...          NaN          NaN          NaN   \n",
      "19       2.30      0.0  ...          NaN          NaN          NaN   \n",
      "20       2.30      1.0  ...          NaN          NaN          NaN   \n",
      "21       2.30      0.0  ...          NaN          NaN          NaN   \n",
      "22       2.30      0.0  ...          NaN          NaN          NaN   \n",
      "23       2.30      0.0  ...          NaN          NaN          NaN   \n",
      "24       2.30      0.0  ...          NaN          NaN          NaN   \n",
      "25       2.30    186.0  ...          NaN          NaN          NaN   \n",
      "26       2.30      3.0  ...          NaN          NaN          NaN   \n",
      "27       2.30      0.0  ...          NaN          NaN          NaN   \n",
      "28       2.30      0.0  ...          NaN          NaN          NaN   \n",
      "29       4.22      0.0  ...          NaN          NaN          NaN   \n",
      "30       4.22      2.0  ...          NaN          NaN          NaN   \n",
      "31       4.22     10.0  ...          NaN          NaN          NaN   \n",
      "32       4.22     24.0  ...          NaN          NaN          NaN   \n",
      "33       4.22     25.0  ...          NaN          NaN          NaN   \n",
      "34       4.22     10.0  ...          NaN          NaN          NaN   \n",
      "35       4.22      0.0  ...          NaN          NaN          NaN   \n",
      "36       4.22      6.0  ...          NaN          NaN          NaN   \n",
      "37       4.22      0.0  ...          NaN          NaN          NaN   \n",
      "38       4.22    252.0  ...          NaN          NaN          NaN   \n",
      "39       4.22    175.0  ...          NaN          NaN          NaN   \n",
      "40       4.22     12.0  ...          NaN          NaN          NaN   \n",
      "41       4.22     16.0  ...          NaN          NaN          NaN   \n",
      "42       4.22      4.0  ...          NaN          NaN          NaN   \n",
      "43        NaN      NaN  ...          NaN          NaN          NaN   \n",
      "\n",
      "    Unnamed: 33  Unnamed: 34  Unnamed: 35  Unnamed: 36  Unnamed: 37  \\\n",
      "0           NaN          NaN          NaN          NaN          NaN   \n",
      "1           NaN          NaN          NaN          NaN          NaN   \n",
      "2           NaN          NaN          NaN          NaN          NaN   \n",
      "3           NaN          NaN          NaN          NaN          NaN   \n",
      "4           NaN          NaN          NaN          NaN          NaN   \n",
      "5           NaN          NaN          NaN          NaN          NaN   \n",
      "6           NaN          NaN          NaN          NaN          NaN   \n",
      "7           NaN          NaN          NaN          NaN          NaN   \n",
      "8           NaN          NaN          NaN          NaN          NaN   \n",
      "9           NaN          NaN          NaN          NaN          NaN   \n",
      "10          NaN          NaN          NaN          NaN          NaN   \n",
      "11          NaN          NaN          NaN          NaN          NaN   \n",
      "12          NaN          NaN          NaN          NaN          NaN   \n",
      "13          NaN          NaN          NaN          NaN          NaN   \n",
      "14          NaN          NaN          NaN          NaN          NaN   \n",
      "15          NaN          NaN          NaN          NaN          NaN   \n",
      "16          NaN          NaN          NaN          NaN          NaN   \n",
      "17          NaN          NaN          NaN          NaN          NaN   \n",
      "18          NaN          NaN          NaN          NaN          NaN   \n",
      "19          NaN          NaN          NaN          NaN          NaN   \n",
      "20          NaN          NaN          NaN          NaN          NaN   \n",
      "21          NaN          NaN          NaN          NaN          NaN   \n",
      "22          NaN          NaN          NaN          NaN          NaN   \n",
      "23          NaN          NaN          NaN          NaN          NaN   \n",
      "24          NaN          NaN          NaN          NaN          NaN   \n",
      "25          NaN          NaN          NaN          NaN          NaN   \n",
      "26          NaN          NaN          NaN          NaN          NaN   \n",
      "27          NaN          NaN          NaN          NaN          NaN   \n",
      "28          NaN          NaN          NaN          NaN          NaN   \n",
      "29          NaN          NaN          NaN          NaN          NaN   \n",
      "30          NaN          NaN          NaN          NaN          NaN   \n",
      "31          NaN          NaN          NaN          NaN          NaN   \n",
      "32          NaN          NaN          NaN          NaN          NaN   \n",
      "33          NaN          NaN          NaN          NaN          NaN   \n",
      "34          NaN          NaN          NaN          NaN          NaN   \n",
      "35          NaN          NaN          NaN          NaN          NaN   \n",
      "36          NaN          NaN          NaN          NaN          NaN   \n",
      "37          NaN          NaN          NaN          NaN          NaN   \n",
      "38          NaN          NaN          NaN          NaN          NaN   \n",
      "39          NaN          NaN          NaN          NaN          NaN   \n",
      "40          NaN          NaN          NaN          NaN          NaN   \n",
      "41          NaN          NaN          NaN          NaN          NaN   \n",
      "42          NaN          NaN          NaN          NaN          NaN   \n",
      "43          NaN          NaN          NaN          NaN          NaN   \n",
      "\n",
      "    Unnamed: 38  Unnamed: 39  \n",
      "0           NaN          NaN  \n",
      "1           NaN      17259.0  \n",
      "2           NaN      17259.0  \n",
      "3           NaN      17259.0  \n",
      "4           NaN      17264.0  \n",
      "5           NaN          NaN  \n",
      "6           NaN          NaN  \n",
      "7           NaN          NaN  \n",
      "8           NaN          NaN  \n",
      "9           NaN          NaN  \n",
      "10          NaN          NaN  \n",
      "11          NaN          NaN  \n",
      "12          NaN          NaN  \n",
      "13          NaN          NaN  \n",
      "14          NaN          NaN  \n",
      "15          NaN          NaN  \n",
      "16          NaN          NaN  \n",
      "17          NaN          NaN  \n",
      "18          NaN          NaN  \n",
      "19          NaN          NaN  \n",
      "20          NaN          NaN  \n",
      "21          NaN          NaN  \n",
      "22          NaN          NaN  \n",
      "23          NaN          NaN  \n",
      "24          NaN          NaN  \n",
      "25          NaN          NaN  \n",
      "26          NaN          NaN  \n",
      "27          NaN          NaN  \n",
      "28          NaN          NaN  \n",
      "29          NaN          NaN  \n",
      "30          NaN          NaN  \n",
      "31          NaN          NaN  \n",
      "32          NaN          NaN  \n",
      "33          NaN          NaN  \n",
      "34          NaN          NaN  \n",
      "35          NaN          NaN  \n",
      "36          NaN          NaN  \n",
      "37          NaN          NaN  \n",
      "38          NaN          NaN  \n",
      "39          NaN          NaN  \n",
      "40          NaN          NaN  \n",
      "41          NaN          NaN  \n",
      "42          NaN          NaN  \n",
      "43          NaN          NaN  \n",
      "\n",
      "[44 rows x 40 columns]\n",
      "            CORO 1      T_CORO 1      CORO 2   T_CORO 2      ASTRA 1  \\\n",
      "count    43.000000     43.000000    43.00000  43.000000    43.000000   \n",
      "mean    145.581395  25427.116279   457.44186  22.212000   922.651163   \n",
      "std     497.059460   1558.757705  1125.73382   5.614661  1966.597096   \n",
      "min       0.000000  20482.000000     0.00000   9.732000     0.000000   \n",
      "25%       0.000000  23972.000000     0.00000  20.492000     0.000000   \n",
      "50%       0.000000  26182.000000     0.00000  22.222000     0.000000   \n",
      "75%       0.000000  26182.000000     0.00000  26.192000     0.000000   \n",
      "max    2210.000000  26742.000000  4780.00000  29.402000  7755.000000   \n",
      "\n",
      "       T_ASTRA 1      ASTRA 2  T_ASTRA 2     SAUDE 1  T_SAUDE 1  ...  \\\n",
      "count  43.000000    43.000000  43.000000   43.000000  43.000000  ...   \n",
      "mean   19.356093    98.139535   2.283256   22.790698   7.008256  ...   \n",
      "std    12.955856   451.512041   1.655277   63.856818   0.291263  ...   \n",
      "min     4.220000     0.000000   0.000000    0.000000   6.685000  ...   \n",
      "25%     6.160000     0.000000   0.000000    0.000000   6.688000  ...   \n",
      "50%    20.445000     0.000000   2.300000    0.000000   6.940000  ...   \n",
      "75%    30.579000     0.000000   4.220000    5.000000   7.153000  ...   \n",
      "max    43.894000  2300.000000   4.220000  252.000000   7.665000  ...   \n",
      "\n",
      "       Unnamed: 30  Unnamed: 31  Unnamed: 32  Unnamed: 33  Unnamed: 34  \\\n",
      "count          0.0          0.0          0.0          0.0          0.0   \n",
      "mean           NaN          NaN          NaN          NaN          NaN   \n",
      "std            NaN          NaN          NaN          NaN          NaN   \n",
      "min            NaN          NaN          NaN          NaN          NaN   \n",
      "25%            NaN          NaN          NaN          NaN          NaN   \n",
      "50%            NaN          NaN          NaN          NaN          NaN   \n",
      "75%            NaN          NaN          NaN          NaN          NaN   \n",
      "max            NaN          NaN          NaN          NaN          NaN   \n",
      "\n",
      "       Unnamed: 35  Unnamed: 36  Unnamed: 37  Unnamed: 38  Unnamed: 39  \n",
      "count          0.0          0.0          0.0          0.0         4.00  \n",
      "mean           NaN          NaN          NaN          NaN     17260.25  \n",
      "std            NaN          NaN          NaN          NaN         2.50  \n",
      "min            NaN          NaN          NaN          NaN     17259.00  \n",
      "25%            NaN          NaN          NaN          NaN     17259.00  \n",
      "50%            NaN          NaN          NaN          NaN     17259.00  \n",
      "75%            NaN          NaN          NaN          NaN     17260.25  \n",
      "max            NaN          NaN          NaN          NaN     17264.00  \n",
      "\n",
      "[8 rows x 39 columns]\n",
      "RangeIndex(start=0, stop=44, step=1)\n"
     ]
    }
   ],
   "source": [
    "#leitura do arquivo de texto\n",
    "valores = pd.read_csv(\"COVID19_4.csv\", ';')\n",
    "print('Valores lidos:')\n",
    "print(valores)\n",
    "print(valores.describe())\n",
    "print(valores.index)"
   ]
  },
  {
   "cell_type": "code",
   "execution_count": 55,
   "id": "israeli-hamilton",
   "metadata": {},
   "outputs": [
    {
     "name": "stdout",
     "output_type": "stream",
     "text": [
      "1 – Qual o total de profissionais da Saudade que tomaram a primeira dose de alguma vacina contra a convid-19?\n",
      "980\n",
      "Total recebido: 980\n"
     ]
    }
   ],
   "source": [
    "print('1 – Qual o total de profissionais da Saudade que tomaram a primeira dose de alguma vacina contra a convid-19?')\n",
    "total_recebido = int(valores['SAUDE 1'].sum())\n",
    "\n",
    "print( '%d' % total_recebido)\n",
    "print('Total recebido: {0:,}'.format(total_recebido).replace(',','.'))\n"
   ]
  },
  {
   "cell_type": "code",
   "execution_count": 56,
   "id": "studied-magic",
   "metadata": {},
   "outputs": [
    {
     "name": "stdout",
     "output_type": "stream",
     "text": [
      "2 – Qual o total de profissionais da Saudade vacinados, ou seja, que tomaram a primeira e a segunda dose de alguma vacina contra a convid-19?\n",
      "3462\n",
      "Total recebido: 3.462\n"
     ]
    }
   ],
   "source": [
    "print('2 – Qual o total de profissionais da Saudade vacinados, ou seja, que tomaram a primeira e a segunda dose de alguma vacina contra a convid-19?')\n",
    "total_recebido = int(valores['SAUDE 1'].sum() + valores['SAUDE 2'].sum())\n",
    "print( '%d' % total_recebido)\n",
    "print('Total recebido: {:,}'.format(total_recebido).replace(',','.'))"
   ]
  },
  {
   "cell_type": "code",
   "execution_count": 57,
   "id": "durable-relation",
   "metadata": {},
   "outputs": [
    {
     "name": "stdout",
     "output_type": "stream",
     "text": [
      "3 – Qual a porcentagem, em relação ao total de munícipes de Jacareí, que representa os profissionais da Saudade que tomaram a primeira dose de alguma vacina contra a convid-19?\n",
      "A porcentagem é: 0.42 %\n"
     ]
    }
   ],
   "source": [
    "print('3 – Qual a porcentagem, em relação ao total de munícipes de Jacareí, que representa os profissionais da Saudade que tomaram a primeira dose de alguma vacina contra a convid-19?')\n",
    "print(\"A porcentagem é: {:.2f} %\".format(percentual(valores['SAUDE 1'].sum())))"
   ]
  },
  {
   "cell_type": "code",
   "execution_count": 58,
   "id": "royal-nothing",
   "metadata": {},
   "outputs": [
    {
     "name": "stdout",
     "output_type": "stream",
     "text": [
      "4 – Qual a porcentagem, em relação ao total de munícipes de Jacareí, que representa os profissionais da Saudade vacinados contra a convid-19, ou seja, que tomaram a primeira e a segunda dose de alguma vacina contra a covid-19?\n",
      "A porcentagem é: 1.47 %\n"
     ]
    }
   ],
   "source": [
    "print('4 – Qual a porcentagem, em relação ao total de munícipes de Jacareí, que representa os profissionais da Saudade vacinados contra a convid-19, ou seja, que tomaram a primeira e a segunda dose de alguma vacina contra a covid-19?')\n",
    "print(\"A porcentagem é: {:.2f} %\".format(percentual(valores['SAUDE 1'].sum() + valores['SAUDE 2'].sum())))"
   ]
  },
  {
   "cell_type": "code",
   "execution_count": 59,
   "id": "labeled-church",
   "metadata": {},
   "outputs": [
    {
     "name": "stdout",
     "output_type": "stream",
     "text": [
      "5 – Qual o total de profissionais da Educação que tomaram a primeira dose de alguma vacina contra a convid-19?\n",
      "1552\n",
      "Total recebido: 1.552\n"
     ]
    }
   ],
   "source": [
    "print('5 – Qual o total de profissionais da Educação que tomaram a primeira dose de alguma vacina contra a convid-19?')\n",
    "total_recebido = int(valores['EDUC 1'].sum())\n",
    "print( '%d' % total_recebido)\n",
    "print('Total recebido: {:,}'.format(total_recebido).replace(',','.'))"
   ]
  },
  {
   "cell_type": "code",
   "execution_count": 60,
   "id": "another-extraction",
   "metadata": {},
   "outputs": [
    {
     "name": "stdout",
     "output_type": "stream",
     "text": [
      "6 – Qual o total de profissionais da Educação vacinados, ou seja, que tomaram a primeira e a segunda dose de alguma vacina contra a convid-19?\n",
      "2984\n",
      "Total recebido: 2.984\n"
     ]
    }
   ],
   "source": [
    "print('6 – Qual o total de profissionais da Educação vacinados, ou seja, que tomaram a primeira e a segunda dose de alguma vacina contra a convid-19?')\n",
    "total_recebido = int(valores['EDUC 1'].sum() + valores['EDUC 2'].sum())\n",
    "print( '%d' % total_recebido)\n",
    "print('Total recebido: {:,}'.format(total_recebido).replace(',','.'))"
   ]
  },
  {
   "cell_type": "code",
   "execution_count": 61,
   "id": "bored-sperm",
   "metadata": {},
   "outputs": [
    {
     "name": "stdout",
     "output_type": "stream",
     "text": [
      "7 – Qual a porcentagem, em relação ao total de munícipes de Jacareí, que representa os profissionais da Educação que tomaram a primeira dose de alguma vacina contra a convid-19?\n",
      "A porcentagem é: 0.66 %\n"
     ]
    }
   ],
   "source": [
    "print('7 – Qual a porcentagem, em relação ao total de munícipes de Jacareí, que representa os profissionais da Educação que tomaram a primeira dose de alguma vacina contra a convid-19?')\n",
    "print(\"A porcentagem é: {:.2f} %\".format(percentual(valores['EDUC 1'].sum())))"
   ]
  },
  {
   "cell_type": "code",
   "execution_count": 62,
   "id": "angry-occasions",
   "metadata": {},
   "outputs": [
    {
     "name": "stdout",
     "output_type": "stream",
     "text": [
      "8 – Qual a porcentagem, em relação ao total de munícipes de Jacareí, que representa os profissionais da Educação vacinados contra a convid-19, ou seja, que tomaram a primeira e a segunda dose de alguma vacina contra a covid-19?\n",
      "A porcentagem é: 1.27 %\n"
     ]
    }
   ],
   "source": [
    "print('8 – Qual a porcentagem, em relação ao total de munícipes de Jacareí, que representa os profissionais da Educação vacinados contra a convid-19, ou seja, que tomaram a primeira e a segunda dose de alguma vacina contra a covid-19?')\n",
    "print(\"A porcentagem é: {:.2f} %\".format(percentual(valores['EDUC 1'].sum() + valores['EDUC 2'].sum())))"
   ]
  },
  {
   "cell_type": "code",
   "execution_count": 63,
   "id": "preliminary-appeal",
   "metadata": {},
   "outputs": [
    {
     "name": "stdout",
     "output_type": "stream",
     "text": [
      "9 – Qual o total de idosos que tomaram a primeira dose de alguma vacina contra a convid-19?\n",
      "18843\n",
      "Total recebido: 18.843\n"
     ]
    }
   ],
   "source": [
    "print('9 – Qual o total de idosos que tomaram a primeira dose de alguma vacina contra a convid-19?')\n",
    "total_recebido = int(valores['IDOSO 1'].sum())\n",
    "print( '%d' % total_recebido)\n",
    "print('Total recebido: {:,}'.format(total_recebido).replace(',','.'))"
   ]
  },
  {
   "cell_type": "code",
   "execution_count": 64,
   "id": "identical-literacy",
   "metadata": {},
   "outputs": [
    {
     "name": "stdout",
     "output_type": "stream",
     "text": [
      "10 – Qual o total de idosos, ou seja, que tomaram a primeira e a segunda dose de alguma vacina contra a convid-19?\n",
      "33533\n",
      "Total recebido: 33.533\n"
     ]
    }
   ],
   "source": [
    "print('10 – Qual o total de idosos, ou seja, que tomaram a primeira e a segunda dose de alguma vacina contra a convid-19?')\n",
    "total_recebido = int(valores['IDOSO 1'].sum() + valores['IDOSO 2'].sum())\n",
    "print( '%d' % total_recebido)\n",
    "print('Total recebido: {:,}'.format(total_recebido).replace(',','.'))"
   ]
  },
  {
   "cell_type": "code",
   "execution_count": 74,
   "id": "departmental-embassy",
   "metadata": {},
   "outputs": [
    {
     "name": "stdout",
     "output_type": "stream",
     "text": [
      "11 – Qual a porcentagem, em relação ao total de munícipes de Jacareí, que representa os Idosos que tomaram a primeira dose de alguma vacina contra a convid-19?\n",
      "A porcentagem é: 8.00 %\n"
     ]
    }
   ],
   "source": [
    "print('11 – Qual a porcentagem, em relação ao total de munícipes de Jacareí, que representa os Idosos que tomaram a primeira dose de alguma vacina contra a convid-19?')\n",
    "print(\"A porcentagem é: {:.2f} %\".format(percentual(valores['IDOSO 1'].sum())))"
   ]
  },
  {
   "cell_type": "code",
   "execution_count": 66,
   "id": "bearing-genre",
   "metadata": {},
   "outputs": [
    {
     "name": "stdout",
     "output_type": "stream",
     "text": [
      "12 – Qual a porcentagem, em relação ao total de munícipes de Jacareí, que representa os Idosos vacinados contra a convid-19, ou seja, que tomaram a primeira e a segunda dose de alguma vacina contra a covid-19?\n",
      "A porcentagem é: 14.24 %\n"
     ]
    }
   ],
   "source": [
    "print('12 – Qual a porcentagem, em relação ao total de munícipes de Jacareí, que representa os Idosos vacinados contra a convid-19, ou seja, que tomaram a primeira e a segunda dose de alguma vacina contra a covid-19?')\n",
    "print(\"A porcentagem é: {:.2f} %\".format(percentual(valores['IDOSO 1'].sum() + valores['IDOSO 2'].sum())))"
   ]
  },
  {
   "cell_type": "code",
   "execution_count": 67,
   "id": "published-shakespeare",
   "metadata": {},
   "outputs": [
    {
     "name": "stdout",
     "output_type": "stream",
     "text": [
      "13 – Qual o total de pessoas com comorbidades que tomaram a primeira dose de alguma vacina contra a convid-19?\n",
      "15977\n",
      "Total recebido: 15.977\n"
     ]
    }
   ],
   "source": [
    "print('13 – Qual o total de pessoas com comorbidades que tomaram a primeira dose de alguma vacina contra a convid-19?')\n",
    "total_recebido = int(valores['CORMOB 1'].sum())\n",
    "print( '%d' % total_recebido)\n",
    "print('Total recebido: {:,}'.format(total_recebido).replace(',','.'))\n"
   ]
  },
  {
   "cell_type": "code",
   "execution_count": 68,
   "id": "expanded-business",
   "metadata": {},
   "outputs": [
    {
     "name": "stdout",
     "output_type": "stream",
     "text": [
      "14 – Qual o total de pessoas com comorbidades vacinados, ou seja, que tomaram a primeira e a segunda dose de alguma vacina contra a convid-19?\n",
      "15977\n",
      "Total recebido: 15.977\n"
     ]
    }
   ],
   "source": [
    "print('14 – Qual o total de pessoas com comorbidades vacinados, ou seja, que tomaram a primeira e a segunda dose de alguma vacina contra a convid-19?')\n",
    "print( '%d' % total_recebido)\n",
    "print('Total recebido: {:,}'.format(total_recebido).replace(',','.'))"
   ]
  },
  {
   "cell_type": "code",
   "execution_count": 69,
   "id": "raised-admission",
   "metadata": {},
   "outputs": [
    {
     "name": "stdout",
     "output_type": "stream",
     "text": [
      "15 – Qual a porcentagem, em relação ao total de munícipes de Jacareí, que representa as pessoas com comorbidades que tomaram a primeira dose de alguma vacina contra a convid-19?\n",
      "A porcentagem, em relação ao total de munícipes de Jacareí: 6.79 %\n"
     ]
    }
   ],
   "source": [
    "print('15 – Qual a porcentagem, em relação ao total de munícipes de Jacareí, que representa as pessoas com comorbidades que tomaram a primeira dose de alguma vacina contra a convid-19?')\n",
    "porcentagem = percentual(valores['CORMOB 1'].sum())\n",
    "print(\"A porcentagem, em relação ao total de munícipes de Jacareí: {:.2f} %\".format(porcentagem))"
   ]
  },
  {
   "cell_type": "code",
   "execution_count": 76,
   "id": "painted-compensation",
   "metadata": {},
   "outputs": [
    {
     "name": "stdout",
     "output_type": "stream",
     "text": [
      "16 – Qual a porcentagem, em relação ao total de munícipes de Jacareí, que representa as pessoas com comorbidades vacinados contra a convid-19, ou seja, que tomaram a primeira e a segunda dose de alguma vacina contra a covid-19?\n",
      "A porcentagem, em relação ao total de munícipes de Jacareí: 6.79 %\n"
     ]
    }
   ],
   "source": [
    "print('16 – Qual a porcentagem, em relação ao total de munícipes de Jacareí, que representa as pessoas com comorbidades vacinados contra a convid-19, ou seja, que tomaram a primeira e a segunda dose de alguma vacina contra a covid-19?')\n",
    "porcentagem = percentual(valores['CORMOB 1'].sum() + valores['CORMOB 2'].sum())\n",
    "print(\"A porcentagem, em relação ao total de munícipes de Jacareí: {:.2f} %\".format(porcentagem))"
   ]
  },
  {
   "cell_type": "code",
   "execution_count": 71,
   "id": "median-marker",
   "metadata": {},
   "outputs": [
    {
     "name": "stdout",
     "output_type": "stream",
     "text": [
      "17 – Qual o total de vacinas aplicadas e quanto isto representa em porcentagem ao total de vacinas recebidas pelo munícipio de Jacareí?\n",
      "Total aplicado: 39.979\n",
      "Total recebido: 69.824\n",
      "Percentual: 57.26 %\n"
     ]
    }
   ],
   "source": [
    "print('17 – Qual o total de vacinas aplicadas e quanto isto representa em porcentagem ao total de vacinas recebidas pelo munícipio de Jacareí?')\n",
    "total_aplicado = int(valores['SAUDE 1'].sum() + valores['SAUDE 2'].sum() + valores['EDUC 1'].sum() + valores['EDUC 2'].sum() + valores['IDOSO 1'].sum() + valores['IDOSO 2'].sum())\n",
    "print('Total aplicado: {:,}'.format(total_aplicado).replace(',','.'))\n",
    "\n",
    "total_recebido = int(valores['CORO 1'].sum() + valores['CORO 2'].sum() + valores['ASTRA 1'].sum() + valores['ASTRA 2'].sum())\n",
    "print('Total recebido: {:,}'.format(total_recebido).replace(',','.'))\n",
    "print('Percentual: {:.2f} %'.format( total_aplicado*100/total_recebido, ' %'))\n"
   ]
  },
  {
   "cell_type": "code",
   "execution_count": 72,
   "id": "exclusive-aaron",
   "metadata": {},
   "outputs": [
    {
     "name": "stdout",
     "output_type": "stream",
     "text": [
      "18 – Dado que o município de Jacareí recebeu vacinas de apenas dois laboratórios até o momento, qual o total de vacinas recebidas de cada laboratório e qual o percentual de cada um em relação ao total de vacinas recebidas?\n",
      "Total recebido: 69824\n",
      "Total recebido:  69824\n",
      "Total recebido: 69,824\n",
      "Total recebido: 69.824\n",
      "Total recebido de Coronavac:  25930\n",
      "Total recebido de Coronavac: 25.930\n",
      "Total recebido de Astrazenica:  43894\n",
      "Total recebido de Astrazenica: 43.894\n"
     ]
    }
   ],
   "source": [
    "print('18 – Dado que o município de Jacareí recebeu vacinas de apenas dois laboratórios até o momento, qual o total de vacinas recebidas de cada laboratório e qual o percentual de cada um em relação ao total de vacinas recebidas?')\n",
    "total_recebido = int(valores['CORO 1'].sum() + valores['CORO 2'].sum() + valores['ASTRA 1'].sum() + valores['ASTRA 2'].sum())\n",
    "\n",
    "#As duas formas de imprimir\n",
    "print('Total recebido: %d'% total_recebido)\n",
    "print('Total recebido: ', total_recebido)\n",
    "\n",
    "# FORMATAÇÃO DE NUMERO PARA O PADRÃO BRASILEIRO\n",
    "\n",
    "# Função do python para colocar a vírgula\n",
    "print('Total recebido: {0:,}'.format(total_recebido))\n",
    "# Função do python para trocar a vírgula por ponto\n",
    "print('Total recebido: {0:,}'.format(total_recebido).replace(',','.'))\n",
    "\n",
    "total_recebido_CORO = int(valores['CORO 1'].sum() + valores['CORO 2'].sum())\n",
    "print('Total recebido de Coronavac: ', total_recebido_CORO)\n",
    "print('Total recebido de Coronavac: {0:,}'.format(total_recebido_CORO).replace(',','.'))\n",
    "\n",
    "\n",
    "total_recebido_ASTRA = int(valores['ASTRA 1'].sum() + valores['ASTRA 2'].sum())\n",
    "print('Total recebido de Astrazenica: ', total_recebido_ASTRA)\n",
    "print('Total recebido de Astrazenica: {0:,}'.format(total_recebido_ASTRA).replace(',','.'))\n",
    "\n"
   ]
  },
  {
   "cell_type": "code",
   "execution_count": null,
   "id": "conscious-operation",
   "metadata": {},
   "outputs": [],
   "source": []
  }
 ],
 "metadata": {
  "kernelspec": {
   "display_name": "Python 3",
   "language": "python",
   "name": "python3"
  },
  "language_info": {
   "codemirror_mode": {
    "name": "ipython",
    "version": 3
   },
   "file_extension": ".py",
   "mimetype": "text/x-python",
   "name": "python",
   "nbconvert_exporter": "python",
   "pygments_lexer": "ipython3",
   "version": "3.7.8"
  }
 },
 "nbformat": 4,
 "nbformat_minor": 5
}
