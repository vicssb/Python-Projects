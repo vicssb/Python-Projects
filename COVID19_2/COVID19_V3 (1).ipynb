{
 "cells": [
  {
   "cell_type": "code",
   "execution_count": 1,
   "id": "complex-upper",
   "metadata": {},
   "outputs": [
    {
     "data": {
      "text/plain": [
       "'\\nprojeto COVID 19\\n\\n1 – Qual o total de profissionais da Saudade que tomaram a primeira dose de alguma vacina contra a convid-19?\\n\\n2 – Qual o total de profissionais da Saudade vacinados, ou seja, que tomaram a primeira e a segunda dose de alguma vacina contra a convid-19?\\n\\n3 – Qual a porcentagem, em relação ao total de munícipes de Jacareí, que representa os profissionais da Saudade que tomaram a primeira dose de alguma vacina contra a convid-19?\\n\\n4 – Qual a porcentagem, em relação ao total de munícipes de Jacareí, que representa os profissionais da Saudade vacinados contra a convid-19, ou seja, que tomaram a primeira e a segunda dose de alguma vacina contra a covid-19?\\n\\n5 – Qual o total de profissionais da Educação que tomaram a primeira dose de alguma vacina contra a convid-19?\\n\\n6 – Qual o total de profissionais da Educação vacinados, ou seja, que tomaram a primeira e a segunda dose de alguma vacina contra a convid-19?\\n\\n7 – Qual a porcentagem, em relação ao total de munícipes de Jacareí, que representa os profissionais da Educação que tomaram a primeira dose de alguma vacina contra a convid-19?\\n\\n8 – Qual a porcentagem, em relação ao total de munícipes de Jacareí, que representa os profissionais da Educação vacinados contra a convid-19, ou seja, que tomaram a primeira e a segunda dose de alguma vacina contra a covid-19?\\n\\n9 – Qual o total de idosos que tomaram a primeira dose de alguma vacina contra a convid-19?\\n\\n10 – Qual o total de idosos, ou seja, que tomaram a primeira e a segunda dose de alguma vacina contra a convid-19?\\n\\n11 – Qual a porcentagem, em relação ao total de munícipes de Jacareí, que representa os Idosos que tomaram a primeira dose de alguma vacina contra a convid-19?\\n\\n12 – Qual a porcentagem, em relação ao total de munícipes de Jacareí, que representa os Idosos vacinados contra a convid-19, ou seja, que tomaram a primeira e a segunda dose de alguma vacina contra a covid-19?\\n\\n13 – Qual o total de pessoas com comorbidades que tomaram a primeira dose de alguma vacina contra a convid-19?\\n\\n14 – Qual o total de pessoas com comorbidades vacinados, ou seja, que tomaram a primeira e a segunda dose de alguma vacina contra a convid-19?\\n\\n15 – Qual a porcentagem, em relação ao total de munícipes de Jacareí, que representa as pessoas com comorbidades que tomaram a primeira dose de alguma vacina contra a convid-19?\\n\\n16 – Qual a porcentagem, em relação ao total de munícipes de Jacareí, que representa as pessoas com comorbidades vacinados contra a convid-19, ou seja, que tomaram a primeira e a segunda dose de alguma vacina contra a covid-19?\\n\\n17 – Qual o total de vacinas aplicadas e quanto isto representa em porcentagem ao total de vacinas recebidas pelo munícipio de Jacareí?\\n\\n18 – Dado que o município de Jacareí recebeu vacinas de apenas dois laboratórios até o momento, qual o total de vacinas recebidas de cada laboratório e qual o percentual de cada um em relação ao total de vacinas recebidas?'"
      ]
     },
     "execution_count": 1,
     "metadata": {},
     "output_type": "execute_result"
    }
   ],
   "source": [
    "'''\n",
    "projeto COVID 19\n",
    "\n",
    "1 – Qual o total de profissionais da Saudade que tomaram a primeira dose de alguma vacina contra a convid-19?\n",
    "\n",
    "2 – Qual o total de profissionais da Saudade vacinados, ou seja, que tomaram a primeira e a segunda dose de alguma vacina contra a convid-19?\n",
    "\n",
    "3 – Qual a porcentagem, em relação ao total de munícipes de Jacareí, que representa os profissionais da Saudade que tomaram a primeira dose de alguma vacina contra a convid-19?\n",
    "\n",
    "4 – Qual a porcentagem, em relação ao total de munícipes de Jacareí, que representa os profissionais da Saudade vacinados contra a convid-19, ou seja, que tomaram a primeira e a segunda dose de alguma vacina contra a covid-19?\n",
    "\n",
    "5 – Qual o total de profissionais da Educação que tomaram a primeira dose de alguma vacina contra a convid-19?\n",
    "\n",
    "6 – Qual o total de profissionais da Educação vacinados, ou seja, que tomaram a primeira e a segunda dose de alguma vacina contra a convid-19?\n",
    "\n",
    "7 – Qual a porcentagem, em relação ao total de munícipes de Jacareí, que representa os profissionais da Educação que tomaram a primeira dose de alguma vacina contra a convid-19?\n",
    "\n",
    "8 – Qual a porcentagem, em relação ao total de munícipes de Jacareí, que representa os profissionais da Educação vacinados contra a convid-19, ou seja, que tomaram a primeira e a segunda dose de alguma vacina contra a covid-19?\n",
    "\n",
    "9 – Qual o total de idosos que tomaram a primeira dose de alguma vacina contra a convid-19?\n",
    "\n",
    "10 – Qual o total de idosos, ou seja, que tomaram a primeira e a segunda dose de alguma vacina contra a convid-19?\n",
    "\n",
    "11 – Qual a porcentagem, em relação ao total de munícipes de Jacareí, que representa os Idosos que tomaram a primeira dose de alguma vacina contra a convid-19?\n",
    "\n",
    "12 – Qual a porcentagem, em relação ao total de munícipes de Jacareí, que representa os Idosos vacinados contra a convid-19, ou seja, que tomaram a primeira e a segunda dose de alguma vacina contra a covid-19?\n",
    "\n",
    "13 – Qual o total de pessoas com comorbidades que tomaram a primeira dose de alguma vacina contra a convid-19?\n",
    "\n",
    "14 – Qual o total de pessoas com comorbidades vacinados, ou seja, que tomaram a primeira e a segunda dose de alguma vacina contra a convid-19?\n",
    "\n",
    "15 – Qual a porcentagem, em relação ao total de munícipes de Jacareí, que representa as pessoas com comorbidades que tomaram a primeira dose de alguma vacina contra a convid-19?\n",
    "\n",
    "16 – Qual a porcentagem, em relação ao total de munícipes de Jacareí, que representa as pessoas com comorbidades vacinados contra a convid-19, ou seja, que tomaram a primeira e a segunda dose de alguma vacina contra a covid-19?\n",
    "\n",
    "17 – Qual o total de vacinas aplicadas e quanto isto representa em porcentagem ao total de vacinas recebidas pelo munícipio de Jacareí?\n",
    "\n",
    "18 – Dado que o município de Jacareí recebeu vacinas de apenas dois laboratórios até o momento, qual o total de vacinas recebidas de cada laboratório e qual o percentual de cada um em relação ao total de vacinas recebidas?'''"
   ]
  },
  {
   "cell_type": "code",
   "execution_count": 2,
   "id": "portable-tender",
   "metadata": {},
   "outputs": [
    {
     "name": "stdout",
     "output_type": "stream",
     "text": [
      "COVID 19\n"
     ]
    }
   ],
   "source": [
    "print('COVID 19')"
   ]
  },
  {
   "cell_type": "code",
   "execution_count": 3,
   "id": "metallic-george",
   "metadata": {},
   "outputs": [],
   "source": [
    "import pandas as pd"
   ]
  },
  {
   "cell_type": "code",
   "execution_count": 4,
   "id": "balanced-silicon",
   "metadata": {},
   "outputs": [],
   "source": [
    "#constante\n",
    "POPULACAO = 235416"
   ]
  },
  {
   "cell_type": "code",
   "execution_count": 5,
   "id": "greenhouse-programmer",
   "metadata": {},
   "outputs": [],
   "source": [
    "#calcula a porcentagem em relação a população\n",
    "def percentual(valor):\n",
    "    perc = (valor * 100) / POPULACAO\n",
    "    return perc"
   ]
  },
  {
   "cell_type": "code",
   "execution_count": 6,
   "id": "sustained-making",
   "metadata": {},
   "outputs": [
    {
     "name": "stdout",
     "output_type": "stream",
     "text": [
      "Valores lidos:\n",
      "          CORO 1     CORO 2    ASTRA 1    ASTRA 2    SAUDE 1    SAUDE 2  \\\n",
      "count  43.000000  43.000000  43.000000  43.000000  43.000000  43.000000   \n",
      "mean   25.427116  22.212000  19.356093   2.283256   7.008256   5.616163   \n",
      "std     1.558758   5.614661  12.955856   1.655277   0.291263   0.906511   \n",
      "min    20.482000   9.732000   4.220000   0.000000   6.685000   4.359000   \n",
      "25%    23.972000  20.492000   6.160000   0.000000   6.688000   4.464500   \n",
      "50%    26.182000  22.222000  20.445000   2.300000   6.940000   5.828000   \n",
      "75%    26.182000  26.192000  30.579000   4.220000   7.153000   6.502500   \n",
      "max    26.742000  29.402000  43.894000   4.220000   7.665000   6.841000   \n",
      "\n",
      "          EDUC 1     EDUC 2    IDOSO 1    IDOSO 2  ...  Unnamed: 16  \\\n",
      "count  43.000000  43.000000  43.000000  43.000000  ...          0.0   \n",
      "mean    1.197698   0.561279  29.032279  15.146930  ...          NaN   \n",
      "std     0.537389   0.702356   7.348726   4.265417  ...          NaN   \n",
      "min     0.000000   0.000000  17.844000   5.422000  ...          NaN   \n",
      "25%     1.431000   0.000000  21.182000  13.189500  ...          NaN   \n",
      "50%     1.431000   0.000000  28.996000  17.259000  ...          NaN   \n",
      "75%     1.435000   1.416500  36.296000  17.889500  ...          NaN   \n",
      "max     1.552000   1.432000  36.687000  20.112000  ...          NaN   \n",
      "\n",
      "       Unnamed: 17  Unnamed: 18  Unnamed: 19  Unnamed: 20  Unnamed: 21  \\\n",
      "count          0.0          0.0          0.0          0.0          0.0   \n",
      "mean           NaN          NaN          NaN          NaN          NaN   \n",
      "std            NaN          NaN          NaN          NaN          NaN   \n",
      "min            NaN          NaN          NaN          NaN          NaN   \n",
      "25%            NaN          NaN          NaN          NaN          NaN   \n",
      "50%            NaN          NaN          NaN          NaN          NaN   \n",
      "75%            NaN          NaN          NaN          NaN          NaN   \n",
      "max            NaN          NaN          NaN          NaN          NaN   \n",
      "\n",
      "       Unnamed: 22  Unnamed: 23  Unnamed: 24  Unnamed: 25  \n",
      "count          0.0          0.0          0.0         4.00  \n",
      "mean           NaN          NaN          NaN     17260.25  \n",
      "std            NaN          NaN          NaN         2.50  \n",
      "min            NaN          NaN          NaN     17259.00  \n",
      "25%            NaN          NaN          NaN     17259.00  \n",
      "50%            NaN          NaN          NaN     17259.00  \n",
      "75%            NaN          NaN          NaN     17260.25  \n",
      "max            NaN          NaN          NaN     17264.00  \n",
      "\n",
      "[8 rows x 25 columns]\n",
      "RangeIndex(start=0, stop=43, step=1)\n"
     ]
    }
   ],
   "source": [
    "#leitura do arquivo de texto\n",
    "valores = pd.read_csv(\"COVID19.CSV\", ';')\n",
    "print('Valores lidos:')\n",
    "#print(valores)\n",
    "print(valores.describe())\n",
    "print(valores.index)"
   ]
  },
  {
   "cell_type": "code",
   "execution_count": 7,
   "id": "grave-thesaurus",
   "metadata": {},
   "outputs": [
    {
     "name": "stdout",
     "output_type": "stream",
     "text": [
      "1 – Qual o total de profissionais da Saudade que tomaram a primeira dose de alguma vacina contra a convid-19?\n",
      "301.355\n"
     ]
    }
   ],
   "source": [
    "print('1 – Qual o total de profissionais da Saudade que tomaram a primeira dose de alguma vacina contra a convid-19?')\n",
    "print(valores['SAUDE 1'].sum())"
   ]
  },
  {
   "cell_type": "code",
   "execution_count": 8,
   "id": "inner-requirement",
   "metadata": {},
   "outputs": [
    {
     "name": "stdout",
     "output_type": "stream",
     "text": [
      "2 – Qual o total de profissionais da Saudade vacinados, ou seja, que tomaram a primeira e a segunda dose de alguma vacina contra a convid-19?\n",
      "542.85\n"
     ]
    }
   ],
   "source": [
    "print('2 – Qual o total de profissionais da Saudade vacinados, ou seja, que tomaram a primeira e a segunda dose de alguma vacina contra a convid-19?')\n",
    "print(valores['SAUDE 1'].sum() + valores['SAUDE 2'].sum())"
   ]
  },
  {
   "cell_type": "code",
   "execution_count": 9,
   "id": "august-debate",
   "metadata": {},
   "outputs": [
    {
     "name": "stdout",
     "output_type": "stream",
     "text": [
      "3 – Qual a porcentagem, em relação ao total de munícipes de Jacareí, que representa os profissionais da Saudade que tomaram a primeira dose de alguma vacina contra a convid-19?\n",
      "0.1280095660447888\n"
     ]
    }
   ],
   "source": [
    "print('3 – Qual a porcentagem, em relação ao total de munícipes de Jacareí, que representa os profissionais da Saudade que tomaram a primeira dose de alguma vacina contra a convid-19?')\n",
    "print(percentual(valores['SAUDE 1'].sum()))"
   ]
  },
  {
   "cell_type": "code",
   "execution_count": 10,
   "id": "jewish-jordan",
   "metadata": {},
   "outputs": [
    {
     "name": "stdout",
     "output_type": "stream",
     "text": [
      "4 – Qual a porcentagem, em relação ao total de munícipes de Jacareí, que representa os profissionais da Saudade vacinados contra a convid-19, ou seja, que tomaram a primeira e a segunda dose de alguma vacina contra a covid-19?\n",
      "0.23059180344581506\n"
     ]
    }
   ],
   "source": [
    "print('4 – Qual a porcentagem, em relação ao total de munícipes de Jacareí, que representa os profissionais da Saudade vacinados contra a convid-19, ou seja, que tomaram a primeira e a segunda dose de alguma vacina contra a covid-19?')\n",
    "print(percentual(valores['SAUDE 1'].sum() + valores['SAUDE 2'].sum()))"
   ]
  },
  {
   "cell_type": "code",
   "execution_count": 11,
   "id": "verbal-python",
   "metadata": {},
   "outputs": [
    {
     "name": "stdout",
     "output_type": "stream",
     "text": [
      "5 – Qual o total de profissionais da Educação que tomaram a primeira dose de alguma vacina contra a convid-19?\n",
      "51.501\n"
     ]
    }
   ],
   "source": [
    "print('5 – Qual o total de profissionais da Educação que tomaram a primeira dose de alguma vacina contra a convid-19?')\n",
    "print(valores['EDUC 1'].sum())"
   ]
  },
  {
   "cell_type": "code",
   "execution_count": 12,
   "id": "balanced-buying",
   "metadata": {},
   "outputs": [
    {
     "name": "stdout",
     "output_type": "stream",
     "text": [
      "6 – Qual o total de profissionais da Educação vacinados, ou seja, que tomaram a primeira e a segunda dose de alguma vacina contra a convid-19?\n",
      "75.636\n"
     ]
    }
   ],
   "source": [
    "print('6 – Qual o total de profissionais da Educação vacinados, ou seja, que tomaram a primeira e a segunda dose de alguma vacina contra a convid-19?')\n",
    "print(valores['EDUC 1'].sum() + valores['EDUC 2'].sum())"
   ]
  },
  {
   "cell_type": "code",
   "execution_count": 13,
   "id": "amino-stuart",
   "metadata": {},
   "outputs": [
    {
     "name": "stdout",
     "output_type": "stream",
     "text": [
      "7 – Qual a porcentagem, em relação ao total de munícipes de Jacareí, que representa os profissionais da Educação que tomaram a primeira dose de alguma vacina contra a convid-19?\n",
      "0.021876592924864918\n"
     ]
    }
   ],
   "source": [
    "print('7 – Qual a porcentagem, em relação ao total de munícipes de Jacareí, que representa os profissionais da Educação que tomaram a primeira dose de alguma vacina contra a convid-19?')\n",
    "print(percentual(valores['EDUC 1'].sum()))"
   ]
  },
  {
   "cell_type": "code",
   "execution_count": 14,
   "id": "electrical-country",
   "metadata": {},
   "outputs": [
    {
     "name": "stdout",
     "output_type": "stream",
     "text": [
      "8 – Qual a porcentagem, em relação ao total de munícipes de Jacareí, que representa os profissionais da Educação vacinados contra a convid-19, ou seja, que tomaram a primeira e a segunda dose de alguma vacina contra a covid-19?\n",
      "0.03212865735548985\n"
     ]
    }
   ],
   "source": [
    "print('8 – Qual a porcentagem, em relação ao total de munícipes de Jacareí, que representa os profissionais da Educação vacinados contra a convid-19, ou seja, que tomaram a primeira e a segunda dose de alguma vacina contra a covid-19?')\n",
    "print(percentual(valores['EDUC 1'].sum() + valores['EDUC 2'].sum()))"
   ]
  },
  {
   "cell_type": "code",
   "execution_count": 15,
   "id": "turned-headset",
   "metadata": {},
   "outputs": [
    {
     "name": "stdout",
     "output_type": "stream",
     "text": [
      "9 – Qual o total de idosos que tomaram a primeira dose de alguma vacina contra a convid-19?\n",
      "1248.388\n"
     ]
    }
   ],
   "source": [
    "print('9 – Qual o total de idosos que tomaram a primeira dose de alguma vacina contra a convid-19?')\n",
    "print(valores['IDOSO 1'].sum())"
   ]
  },
  {
   "cell_type": "code",
   "execution_count": 16,
   "id": "honest-strike",
   "metadata": {},
   "outputs": [
    {
     "name": "stdout",
     "output_type": "stream",
     "text": [
      "10 – Qual o total de idosos, ou seja, que tomaram a primeira e a segunda dose de alguma vacina contra a convid-19?\n",
      "1899.7059999999997\n"
     ]
    }
   ],
   "source": [
    "print('10 – Qual o total de idosos, ou seja, que tomaram a primeira e a segunda dose de alguma vacina contra a convid-19?')\n",
    "print(valores['IDOSO 1'].sum() + valores['IDOSO 2'].sum())"
   ]
  },
  {
   "cell_type": "code",
   "execution_count": 17,
   "id": "charming-surge",
   "metadata": {},
   "outputs": [
    {
     "name": "stdout",
     "output_type": "stream",
     "text": [
      "11 – Qual a porcentagem, em relação ao total de munícipes de Jacareí, que representa os Idosos que tomaram a primeira dose de alguma vacina contra a convid-19?\n",
      "0.5302902096713902\n"
     ]
    }
   ],
   "source": [
    "print('11 – Qual a porcentagem, em relação ao total de munícipes de Jacareí, que representa os Idosos que tomaram a primeira dose de alguma vacina contra a convid-19?')\n",
    "print(percentual(valores['IDOSO 1'].sum()))"
   ]
  },
  {
   "cell_type": "code",
   "execution_count": 18,
   "id": "thermal-redhead",
   "metadata": {},
   "outputs": [
    {
     "name": "stdout",
     "output_type": "stream",
     "text": [
      "12 – Qual a porcentagem, em relação ao total de munícipes de Jacareí, que representa os Idosos vacinados contra a convid-19, ou seja, que tomaram a primeira e a segunda dose de alguma vacina contra a covid-19?\n",
      "0.8069570462500424\n"
     ]
    }
   ],
   "source": [
    "print('12 – Qual a porcentagem, em relação ao total de munícipes de Jacareí, que representa os Idosos vacinados contra a convid-19, ou seja, que tomaram a primeira e a segunda dose de alguma vacina contra a covid-19?')\n",
    "print(percentual(valores['IDOSO 1'].sum() + valores['IDOSO 2'].sum()))"
   ]
  },
  {
   "cell_type": "code",
   "execution_count": 25,
   "id": "fiscal-contrary",
   "metadata": {},
   "outputs": [
    {
     "name": "stdout",
     "output_type": "stream",
     "text": [
      "13 – Qual o total de pessoas com comorbidades que tomaram a primeira dose de alguma vacina contra a convid-19?\n",
      "Total recebido:  657.8029999999999\n"
     ]
    }
   ],
   "source": [
    "print('13 – Qual o total de pessoas com comorbidades que tomaram a primeira dose de alguma vacina contra a convid-19?')\n",
    "total_recebido = valores['CORMOB 1'].sum()\n",
    "print('Total recebido: ', total_recebido)"
   ]
  },
  {
   "cell_type": "code",
   "execution_count": 26,
   "id": "appropriate-efficiency",
   "metadata": {},
   "outputs": [
    {
     "name": "stdout",
     "output_type": "stream",
     "text": [
      "14 – Qual o total de pessoas com comorbidades vacinados, ou seja, que tomaram a primeira e a segunda dose de alguma vacina contra a convid-19?\n",
      "Total recebido:  663.8029999999999\n"
     ]
    }
   ],
   "source": [
    "print('14 – Qual o total de pessoas com comorbidades vacinados, ou seja, que tomaram a primeira e a segunda dose de alguma vacina contra a convid-19?')\n",
    "total_recebido = valores['CORMOB 1'].sum() + valores['CORMOB 2'].sum()\n",
    "print('Total recebido: ', total_recebido)"
   ]
  },
  {
   "cell_type": "code",
   "execution_count": 21,
   "id": "bacterial-charity",
   "metadata": {},
   "outputs": [
    {
     "name": "stdout",
     "output_type": "stream",
     "text": [
      "15 – Qual a porcentagem, em relação ao total de munícipes de Jacareí, que representa as pessoas com comorbidades que tomaram a primeira dose de alguma vacina contra a convid-19?\n"
     ]
    }
   ],
   "source": [
    "print('15 – Qual a porcentagem, em relação ao total de munícipes de Jacareí, que representa as pessoas com comorbidades que tomaram a primeira dose de alguma vacina contra a convid-19?')"
   ]
  },
  {
   "cell_type": "code",
   "execution_count": 22,
   "id": "increasing-cancer",
   "metadata": {},
   "outputs": [
    {
     "name": "stdout",
     "output_type": "stream",
     "text": [
      "16 – Qual a porcentagem, em relação ao total de munícipes de Jacareí, que representa as pessoas com comorbidades vacinados contra a convid-19, ou seja, que tomaram a primeira e a segunda dose de alguma vacina contra a covid-19?\n"
     ]
    }
   ],
   "source": [
    "print('16 – Qual a porcentagem, em relação ao total de munícipes de Jacareí, que representa as pessoas com comorbidades vacinados contra a convid-19, ou seja, que tomaram a primeira e a segunda dose de alguma vacina contra a covid-19?')"
   ]
  },
  {
   "cell_type": "code",
   "execution_count": 23,
   "id": "minimal-corrections",
   "metadata": {},
   "outputs": [
    {
     "name": "stdout",
     "output_type": "stream",
     "text": [
      "17 – Qual o total de vacinas aplicadas e quanto isto representa em porcentagem ao total de vacinas recebidas pelo munícipio de Jacareí?\n",
      "total_aplicado:  2518.1919999999996\n",
      "Total recebido:  2978.9739999999997\n",
      "Percentual:  84.53219128465035  %\n"
     ]
    }
   ],
   "source": [
    "print('17 – Qual o total de vacinas aplicadas e quanto isto representa em porcentagem ao total de vacinas recebidas pelo munícipio de Jacareí?')\n",
    "total_aplicado = valores['SAUDE 1'].sum() + valores['SAUDE 2'].sum() + valores['EDUC 1'].sum() + valores['EDUC 2'].sum() + valores['IDOSO 1'].sum() + valores['IDOSO 2'].sum()\n",
    "print('total_aplicado: ',  total_aplicado)\n",
    "total_recebido = valores['CORO 1'].sum() + valores['CORO 2'].sum() + valores['ASTRA 1'].sum() + valores['ASTRA 2'].sum()\n",
    "print('Total recebido: ', total_recebido)\n",
    "print('Percentual: ', total_aplicado*100/total_recebido, ' %')"
   ]
  },
  {
   "cell_type": "code",
   "execution_count": 24,
   "id": "presidential-address",
   "metadata": {},
   "outputs": [
    {
     "name": "stdout",
     "output_type": "stream",
     "text": [
      "18 – Dado que o município de Jacareí recebeu vacinas de apenas dois laboratórios até o momento, qual o total de vacinas recebidas de cada laboratório e qual o percentual de cada um em relação ao total de vacinas recebidas?\n",
      "Total recebido:  2978.9739999999997\n",
      "Total recebido de Coronavac:  2048.482\n",
      "Total recebido de Astrazenica:  930.492\n",
      "Percentual de Coronavac:  68.76468206839  %\n",
      "Percentual de Astrazenica:  31.235317931610012  %\n"
     ]
    }
   ],
   "source": [
    "print('18 – Dado que o município de Jacareí recebeu vacinas de apenas dois laboratórios até o momento, qual o total de vacinas recebidas de cada laboratório e qual o percentual de cada um em relação ao total de vacinas recebidas?')\n",
    "total_recebido = valores['CORO 1'].sum() + valores['CORO 2'].sum() + valores['ASTRA 1'].sum() + valores['ASTRA 2'].sum()\n",
    "print('Total recebido: ', total_recebido)\n",
    "total_recebido_CORO = valores['CORO 1'].sum() + valores['CORO 2'].sum()\n",
    "print('Total recebido de Coronavac: ', total_recebido_CORO)\n",
    "total_recebido_ASTRA = valores['ASTRA 1'].sum() + valores['ASTRA 2'].sum()\n",
    "print('Total recebido de Astrazenica: ', total_recebido_ASTRA)\n",
    "\n",
    "\n",
    "print('Percentual de Coronavac: ', total_recebido_CORO*100/total_recebido, ' %')\n",
    "print('Percentual de Astrazenica: ', total_recebido_ASTRA*100/total_recebido, ' %')"
   ]
  },
  {
   "cell_type": "code",
   "execution_count": null,
   "id": "democratic-arnold",
   "metadata": {},
   "outputs": [],
   "source": []
  }
 ],
 "metadata": {
  "kernelspec": {
   "display_name": "Python 3",
   "language": "python",
   "name": "python3"
  },
  "language_info": {
   "codemirror_mode": {
    "name": "ipython",
    "version": 3
   },
   "file_extension": ".py",
   "mimetype": "text/x-python",
   "name": "python",
   "nbconvert_exporter": "python",
   "pygments_lexer": "ipython3",
   "version": "3.7.8"
  }
 },
 "nbformat": 4,
 "nbformat_minor": 5
}
