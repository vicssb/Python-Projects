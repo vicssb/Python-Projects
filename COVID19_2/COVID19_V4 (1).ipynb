{
 "cells": [
  {
   "cell_type": "code",
   "execution_count": 13,
   "id": "central-hacker",
   "metadata": {},
   "outputs": [
    {
     "data": {
      "text/plain": [
       "'\\nprojeto COVID 19\\n\\n1 – Qual o total de profissionais da Saudade que tomaram a primeira dose de alguma vacina contra a convid-19?\\n\\n2 – Qual o total de profissionais da Saudade vacinados, ou seja, que tomaram a primeira e a segunda dose de alguma vacina contra a convid-19?\\n\\n3 – Qual a porcentagem, em relação ao total de munícipes de Jacareí, que representa os profissionais da Saudade que tomaram a primeira dose de alguma vacina contra a convid-19?\\n\\n4 – Qual a porcentagem, em relação ao total de munícipes de Jacareí, que representa os profissionais da Saudade vacinados contra a convid-19, ou seja, que tomaram a primeira e a segunda dose de alguma vacina contra a covid-19?\\n\\n5 – Qual o total de profissionais da Educação que tomaram a primeira dose de alguma vacina contra a convid-19?\\n\\n6 – Qual o total de profissionais da Educação vacinados, ou seja, que tomaram a primeira e a segunda dose de alguma vacina contra a convid-19?\\n\\n7 – Qual a porcentagem, em relação ao total de munícipes de Jacareí, que representa os profissionais da Educação que tomaram a primeira dose de alguma vacina contra a convid-19?\\n\\n8 – Qual a porcentagem, em relação ao total de munícipes de Jacareí, que representa os profissionais da Educação vacinados contra a convid-19, ou seja, que tomaram a primeira e a segunda dose de alguma vacina contra a covid-19?\\n\\n9 – Qual o total de idosos que tomaram a primeira dose de alguma vacina contra a convid-19?\\n\\n10 – Qual o total de idosos, ou seja, que tomaram a primeira e a segunda dose de alguma vacina contra a convid-19?\\n\\n11 – Qual a porcentagem, em relação ao total de munícipes de Jacareí, que representa os Idosos que tomaram a primeira dose de alguma vacina contra a convid-19?\\n\\n12 – Qual a porcentagem, em relação ao total de munícipes de Jacareí, que representa os Idosos vacinados contra a convid-19, ou seja, que tomaram a primeira e a segunda dose de alguma vacina contra a covid-19?\\n\\n13 – Qual o total de pessoas com comorbidades que tomaram a primeira dose de alguma vacina contra a convid-19?\\n\\n14 – Qual o total de pessoas com comorbidades vacinados, ou seja, que tomaram a primeira e a segunda dose de alguma vacina contra a convid-19?\\n\\n15 – Qual a porcentagem, em relação ao total de munícipes de Jacareí, que representa as pessoas com comorbidades que tomaram a primeira dose de alguma vacina contra a convid-19?\\n\\n16 – Qual a porcentagem, em relação ao total de munícipes de Jacareí, que representa as pessoas com comorbidades vacinados contra a convid-19, ou seja, que tomaram a primeira e a segunda dose de alguma vacina contra a covid-19?\\n\\n17 – Qual o total de vacinas aplicadas e quanto isto representa em porcentagem ao total de vacinas recebidas pelo munícipio de Jacareí?\\n\\n18 – Dado que o município de Jacareí recebeu vacinas de apenas dois laboratórios até o momento, qual o total de vacinas recebidas de cada laboratório e qual o percentual de cada um em relação ao total de vacinas recebidas?'"
      ]
     },
     "execution_count": 13,
     "metadata": {},
     "output_type": "execute_result"
    }
   ],
   "source": [
    "'''\n",
    "projeto COVID 19\n",
    "\n",
    "1 – Qual o total de profissionais da Saudade que tomaram a primeira dose de alguma vacina contra a convid-19?\n",
    "\n",
    "2 – Qual o total de profissionais da Saudade vacinados, ou seja, que tomaram a primeira e a segunda dose de alguma vacina contra a convid-19?\n",
    "\n",
    "3 – Qual a porcentagem, em relação ao total de munícipes de Jacareí, que representa os profissionais da Saudade que tomaram a primeira dose de alguma vacina contra a convid-19?\n",
    "\n",
    "4 – Qual a porcentagem, em relação ao total de munícipes de Jacareí, que representa os profissionais da Saudade vacinados contra a convid-19, ou seja, que tomaram a primeira e a segunda dose de alguma vacina contra a covid-19?\n",
    "\n",
    "5 – Qual o total de profissionais da Educação que tomaram a primeira dose de alguma vacina contra a convid-19?\n",
    "\n",
    "6 – Qual o total de profissionais da Educação vacinados, ou seja, que tomaram a primeira e a segunda dose de alguma vacina contra a convid-19?\n",
    "\n",
    "7 – Qual a porcentagem, em relação ao total de munícipes de Jacareí, que representa os profissionais da Educação que tomaram a primeira dose de alguma vacina contra a convid-19?\n",
    "\n",
    "8 – Qual a porcentagem, em relação ao total de munícipes de Jacareí, que representa os profissionais da Educação vacinados contra a convid-19, ou seja, que tomaram a primeira e a segunda dose de alguma vacina contra a covid-19?\n",
    "\n",
    "9 – Qual o total de idosos que tomaram a primeira dose de alguma vacina contra a convid-19?\n",
    "\n",
    "10 – Qual o total de idosos, ou seja, que tomaram a primeira e a segunda dose de alguma vacina contra a convid-19?\n",
    "\n",
    "11 – Qual a porcentagem, em relação ao total de munícipes de Jacareí, que representa os Idosos que tomaram a primeira dose de alguma vacina contra a convid-19?\n",
    "\n",
    "12 – Qual a porcentagem, em relação ao total de munícipes de Jacareí, que representa os Idosos vacinados contra a convid-19, ou seja, que tomaram a primeira e a segunda dose de alguma vacina contra a covid-19?\n",
    "\n",
    "13 – Qual o total de pessoas com comorbidades que tomaram a primeira dose de alguma vacina contra a convid-19?\n",
    "\n",
    "14 – Qual o total de pessoas com comorbidades vacinados, ou seja, que tomaram a primeira e a segunda dose de alguma vacina contra a convid-19?\n",
    "\n",
    "15 – Qual a porcentagem, em relação ao total de munícipes de Jacareí, que representa as pessoas com comorbidades que tomaram a primeira dose de alguma vacina contra a convid-19?\n",
    "\n",
    "16 – Qual a porcentagem, em relação ao total de munícipes de Jacareí, que representa as pessoas com comorbidades vacinados contra a convid-19, ou seja, que tomaram a primeira e a segunda dose de alguma vacina contra a covid-19?\n",
    "\n",
    "17 – Qual o total de vacinas aplicadas e quanto isto representa em porcentagem ao total de vacinas recebidas pelo munícipio de Jacareí?\n",
    "\n",
    "18 – Dado que o município de Jacareí recebeu vacinas de apenas dois laboratórios até o momento, qual o total de vacinas recebidas de cada laboratório e qual o percentual de cada um em relação ao total de vacinas recebidas?'''"
   ]
  },
  {
   "cell_type": "code",
   "execution_count": 14,
   "id": "regular-arena",
   "metadata": {},
   "outputs": [
    {
     "name": "stdout",
     "output_type": "stream",
     "text": [
      "COVID 19\n"
     ]
    }
   ],
   "source": [
    "print('COVID 19')"
   ]
  },
  {
   "cell_type": "code",
   "execution_count": 15,
   "id": "generic-large",
   "metadata": {},
   "outputs": [],
   "source": [
    "import pandas as pd"
   ]
  },
  {
   "cell_type": "code",
   "execution_count": 16,
   "id": "artificial-prairie",
   "metadata": {},
   "outputs": [],
   "source": [
    "#constante\n",
    "POPULACAO = 235416"
   ]
  },
  {
   "cell_type": "code",
   "execution_count": 17,
   "id": "mathematical-disclaimer",
   "metadata": {},
   "outputs": [],
   "source": [
    "#calcula a porcentagem em relação a população\n",
    "def percentual(valor):\n",
    "    perc = (valor * 100) / POPULACAO\n",
    "    return perc"
   ]
  },
  {
   "cell_type": "code",
   "execution_count": 37,
   "id": "actual-illness",
   "metadata": {},
   "outputs": [
    {
     "name": "stdout",
     "output_type": "stream",
     "text": [
      "Valores lidos:\n",
      "            CORO 1      T_CORO 1      CORO 2   T_CORO 2      ASTRA 1  \\\n",
      "count    43.000000     43.000000    43.00000  43.000000    43.000000   \n",
      "mean    145.581395  25427.116279   457.44186  22.212000   922.651163   \n",
      "std     497.059460   1558.757705  1125.73382   5.614661  1966.597096   \n",
      "min       0.000000  20482.000000     0.00000   9.732000     0.000000   \n",
      "25%       0.000000  23972.000000     0.00000  20.492000     0.000000   \n",
      "50%       0.000000  26182.000000     0.00000  22.222000     0.000000   \n",
      "75%       0.000000  26182.000000     0.00000  26.192000     0.000000   \n",
      "max    2210.000000  26742.000000  4780.00000  29.402000  7755.000000   \n",
      "\n",
      "       T_ASTRA 1      ASTRA 2  T_ASTRA 2     SAUDE 1  T_SAUDE 1  ...  \\\n",
      "count  43.000000    43.000000  43.000000   43.000000  43.000000  ...   \n",
      "mean   19.356093    98.139535   2.283256   22.790698   7.008256  ...   \n",
      "std    12.955856   451.512041   1.655277   63.856818   0.291263  ...   \n",
      "min     4.220000     0.000000   0.000000    0.000000   6.685000  ...   \n",
      "25%     6.160000     0.000000   0.000000    0.000000   6.688000  ...   \n",
      "50%    20.445000     0.000000   2.300000    0.000000   6.940000  ...   \n",
      "75%    30.579000     0.000000   4.220000    5.000000   7.153000  ...   \n",
      "max    43.894000  2300.000000   4.220000  252.000000   7.665000  ...   \n",
      "\n",
      "       Unnamed: 30  Unnamed: 31  Unnamed: 32  Unnamed: 33  Unnamed: 34  \\\n",
      "count          0.0          0.0          0.0          0.0          0.0   \n",
      "mean           NaN          NaN          NaN          NaN          NaN   \n",
      "std            NaN          NaN          NaN          NaN          NaN   \n",
      "min            NaN          NaN          NaN          NaN          NaN   \n",
      "25%            NaN          NaN          NaN          NaN          NaN   \n",
      "50%            NaN          NaN          NaN          NaN          NaN   \n",
      "75%            NaN          NaN          NaN          NaN          NaN   \n",
      "max            NaN          NaN          NaN          NaN          NaN   \n",
      "\n",
      "       Unnamed: 35  Unnamed: 36  Unnamed: 37  Unnamed: 38  Unnamed: 39  \n",
      "count          0.0          0.0          0.0          0.0         4.00  \n",
      "mean           NaN          NaN          NaN          NaN     17260.25  \n",
      "std            NaN          NaN          NaN          NaN         2.50  \n",
      "min            NaN          NaN          NaN          NaN     17259.00  \n",
      "25%            NaN          NaN          NaN          NaN     17259.00  \n",
      "50%            NaN          NaN          NaN          NaN     17259.00  \n",
      "75%            NaN          NaN          NaN          NaN     17260.25  \n",
      "max            NaN          NaN          NaN          NaN     17264.00  \n",
      "\n",
      "[8 rows x 39 columns]\n",
      "RangeIndex(start=0, stop=44, step=1)\n"
     ]
    }
   ],
   "source": [
    "#leitura do arquivo de texto\n",
    "valores = pd.read_csv(\"COVID19_4.csv\", ';')\n",
    "print('Valores lidos:')\n",
    "#print(valores)\n",
    "print(valores.describe())\n",
    "print(valores.index)"
   ]
  },
  {
   "cell_type": "code",
   "execution_count": 38,
   "id": "greek-auditor",
   "metadata": {},
   "outputs": [
    {
     "name": "stdout",
     "output_type": "stream",
     "text": [
      "1 – Qual o total de profissionais da Saudade que tomaram a primeira dose de alguma vacina contra a convid-19?\n",
      "980\n",
      "Total recebido: 980\n"
     ]
    }
   ],
   "source": [
    "print('1 – Qual o total de profissionais da Saudade que tomaram a primeira dose de alguma vacina contra a convid-19?')\n",
    "total_recebido = int(valores['SAUDE 1'].sum())\n",
    "\n",
    "print( '%d' % total_recebido)\n",
    "print('Total recebido: {0:,}'.format(total_recebido).replace(',','.'))\n"
   ]
  },
  {
   "cell_type": "code",
   "execution_count": 39,
   "id": "gorgeous-scottish",
   "metadata": {},
   "outputs": [
    {
     "name": "stdout",
     "output_type": "stream",
     "text": [
      "2 – Qual o total de profissionais da Saudade vacinados, ou seja, que tomaram a primeira e a segunda dose de alguma vacina contra a convid-19?\n",
      "3462\n",
      "Total recebido: 3.462\n"
     ]
    }
   ],
   "source": [
    "print('2 – Qual o total de profissionais da Saudade vacinados, ou seja, que tomaram a primeira e a segunda dose de alguma vacina contra a convid-19?')\n",
    "total_recebido = int(valores['SAUDE 1'].sum() + valores['SAUDE 2'].sum())\n",
    "print( '%d' % total_recebido)\n",
    "print('Total recebido: {:,}'.format(total_recebido).replace(',','.'))"
   ]
  },
  {
   "cell_type": "code",
   "execution_count": 21,
   "id": "preliminary-twelve",
   "metadata": {},
   "outputs": [
    {
     "name": "stdout",
     "output_type": "stream",
     "text": [
      "3 – Qual a porcentagem, em relação ao total de munícipes de Jacareí, que representa os profissionais da Saudade que tomaram a primeira dose de alguma vacina contra a convid-19?\n",
      "A porcentagem é: 0.42 %\n"
     ]
    }
   ],
   "source": [
    "print('3 – Qual a porcentagem, em relação ao total de munícipes de Jacareí, que representa os profissionais da Saudade que tomaram a primeira dose de alguma vacina contra a convid-19?')\n",
    "print(\"A porcentagem é: {:.2f} %\".format(percentual(valores['SAUDE 1'].sum())))"
   ]
  },
  {
   "cell_type": "code",
   "execution_count": 22,
   "id": "southeast-member",
   "metadata": {},
   "outputs": [
    {
     "name": "stdout",
     "output_type": "stream",
     "text": [
      "4 – Qual a porcentagem, em relação ao total de munícipes de Jacareí, que representa os profissionais da Saudade vacinados contra a convid-19, ou seja, que tomaram a primeira e a segunda dose de alguma vacina contra a covid-19?\n",
      "A porcentagem é: 1.47 %\n"
     ]
    }
   ],
   "source": [
    "print('4 – Qual a porcentagem, em relação ao total de munícipes de Jacareí, que representa os profissionais da Saudade vacinados contra a convid-19, ou seja, que tomaram a primeira e a segunda dose de alguma vacina contra a covid-19?')\n",
    "print(\"A porcentagem é: {:.2f} %\".format(percentual(valores['SAUDE 1'].sum() + valores['SAUDE 2'].sum())))"
   ]
  },
  {
   "cell_type": "code",
   "execution_count": 40,
   "id": "certified-folks",
   "metadata": {},
   "outputs": [
    {
     "name": "stdout",
     "output_type": "stream",
     "text": [
      "5 – Qual o total de profissionais da Educação que tomaram a primeira dose de alguma vacina contra a convid-19?\n",
      "1552\n",
      "Total recebido: 1.552\n"
     ]
    }
   ],
   "source": [
    "print('5 – Qual o total de profissionais da Educação que tomaram a primeira dose de alguma vacina contra a convid-19?')\n",
    "total_recebido = int(valores['EDUC 1'].sum())\n",
    "print( '%d' % total_recebido)\n",
    "print('Total recebido: {:,}'.format(total_recebido).replace(',','.'))"
   ]
  },
  {
   "cell_type": "code",
   "execution_count": 41,
   "id": "personal-brunei",
   "metadata": {},
   "outputs": [
    {
     "name": "stdout",
     "output_type": "stream",
     "text": [
      "6 – Qual o total de profissionais da Educação vacinados, ou seja, que tomaram a primeira e a segunda dose de alguma vacina contra a convid-19?\n",
      "2984\n",
      "Total recebido: 2.984\n"
     ]
    }
   ],
   "source": [
    "print('6 – Qual o total de profissionais da Educação vacinados, ou seja, que tomaram a primeira e a segunda dose de alguma vacina contra a convid-19?')\n",
    "total_recebido = int(valores['EDUC 1'].sum() + valores['EDUC 2'].sum())\n",
    "print( '%d' % total_recebido)\n",
    "print('Total recebido: {:,}'.format(total_recebido).replace(',','.'))"
   ]
  },
  {
   "cell_type": "code",
   "execution_count": 25,
   "id": "single-drove",
   "metadata": {},
   "outputs": [
    {
     "name": "stdout",
     "output_type": "stream",
     "text": [
      "7 – Qual a porcentagem, em relação ao total de munícipes de Jacareí, que representa os profissionais da Educação que tomaram a primeira dose de alguma vacina contra a convid-19?\n",
      "A porcentagem é: 0.66 %\n"
     ]
    }
   ],
   "source": [
    "print('7 – Qual a porcentagem, em relação ao total de munícipes de Jacareí, que representa os profissionais da Educação que tomaram a primeira dose de alguma vacina contra a convid-19?')\n",
    "print(\"A porcentagem é: {:.2f} %\".format(percentual(valores['EDUC 1'].sum())))"
   ]
  },
  {
   "cell_type": "code",
   "execution_count": 26,
   "id": "under-donor",
   "metadata": {},
   "outputs": [
    {
     "name": "stdout",
     "output_type": "stream",
     "text": [
      "8 – Qual a porcentagem, em relação ao total de munícipes de Jacareí, que representa os profissionais da Educação vacinados contra a convid-19, ou seja, que tomaram a primeira e a segunda dose de alguma vacina contra a covid-19?\n",
      "A porcentagem é: 1.27 %\n"
     ]
    }
   ],
   "source": [
    "print('8 – Qual a porcentagem, em relação ao total de munícipes de Jacareí, que representa os profissionais da Educação vacinados contra a convid-19, ou seja, que tomaram a primeira e a segunda dose de alguma vacina contra a covid-19?')\n",
    "print(\"A porcentagem é: {:.2f} %\".format(percentual(valores['EDUC 1'].sum() + valores['EDUC 2'].sum())))"
   ]
  },
  {
   "cell_type": "code",
   "execution_count": 42,
   "id": "lucky-threshold",
   "metadata": {},
   "outputs": [
    {
     "name": "stdout",
     "output_type": "stream",
     "text": [
      "9 – Qual o total de idosos que tomaram a primeira dose de alguma vacina contra a convid-19?\n",
      "18843\n",
      "Total recebido: 18.843\n"
     ]
    }
   ],
   "source": [
    "print('9 – Qual o total de idosos que tomaram a primeira dose de alguma vacina contra a convid-19?')\n",
    "total_recebido = int(valores['IDOSO 1'].sum())\n",
    "print( '%d' % total_recebido)\n",
    "print('Total recebido: {:,}'.format(total_recebido).replace(',','.'))"
   ]
  },
  {
   "cell_type": "code",
   "execution_count": 43,
   "id": "invalid-fashion",
   "metadata": {},
   "outputs": [
    {
     "name": "stdout",
     "output_type": "stream",
     "text": [
      "10 – Qual o total de idosos, ou seja, que tomaram a primeira e a segunda dose de alguma vacina contra a convid-19?\n",
      "33533\n",
      "Total recebido: 33.533\n"
     ]
    }
   ],
   "source": [
    "print('10 – Qual o total de idosos, ou seja, que tomaram a primeira e a segunda dose de alguma vacina contra a convid-19?')\n",
    "total_recebido = int(valores['IDOSO 1'].sum() + valores['IDOSO 2'].sum())\n",
    "print( '%d' % total_recebido)\n",
    "print('Total recebido: {:,}'.format(total_recebido).replace(',','.'))"
   ]
  },
  {
   "cell_type": "code",
   "execution_count": 29,
   "id": "buried-conference",
   "metadata": {},
   "outputs": [
    {
     "name": "stdout",
     "output_type": "stream",
     "text": [
      "11 – Qual a porcentagem, em relação ao total de munícipes de Jacareí, que representa os Idosos que tomaram a primeira dose de alguma vacina contra a convid-19?\n",
      "8.004128861249873\n"
     ]
    }
   ],
   "source": [
    "print('11 – Qual a porcentagem, em relação ao total de munícipes de Jacareí, que representa os Idosos que tomaram a primeira dose de alguma vacina contra a convid-19?')\n",
    "print(percentual(valores['IDOSO 1'].sum()))"
   ]
  },
  {
   "cell_type": "code",
   "execution_count": 30,
   "id": "stylish-patch",
   "metadata": {},
   "outputs": [
    {
     "name": "stdout",
     "output_type": "stream",
     "text": [
      "12 – Qual a porcentagem, em relação ao total de munícipes de Jacareí, que representa os Idosos vacinados contra a convid-19, ou seja, que tomaram a primeira e a segunda dose de alguma vacina contra a covid-19?\n",
      "A porcentagem é: 14.24 %\n"
     ]
    }
   ],
   "source": [
    "print('12 – Qual a porcentagem, em relação ao total de munícipes de Jacareí, que representa os Idosos vacinados contra a convid-19, ou seja, que tomaram a primeira e a segunda dose de alguma vacina contra a covid-19?')\n",
    "print(\"A porcentagem é: {:.2f} %\".format(percentual(valores['IDOSO 1'].sum() + valores['IDOSO 2'].sum())))"
   ]
  },
  {
   "cell_type": "code",
   "execution_count": 45,
   "id": "charitable-basement",
   "metadata": {},
   "outputs": [
    {
     "name": "stdout",
     "output_type": "stream",
     "text": [
      "13 – Qual o total de pessoas com comorbidades que tomaram a primeira dose de alguma vacina contra a convid-19?\n",
      "15977\n",
      "Total recebido: 15.977\n"
     ]
    }
   ],
   "source": [
    "print('13 – Qual o total de pessoas com comorbidades que tomaram a primeira dose de alguma vacina contra a convid-19?')\n",
    "total_recebido = int(valores['CORMOB 1'].sum())\n",
    "print( '%d' % total_recebido)\n",
    "print('Total recebido: {:,}'.format(total_recebido).replace(',','.'))\n"
   ]
  },
  {
   "cell_type": "code",
   "execution_count": 46,
   "id": "distributed-rental",
   "metadata": {},
   "outputs": [
    {
     "name": "stdout",
     "output_type": "stream",
     "text": [
      "14 – Qual o total de pessoas com comorbidades vacinados, ou seja, que tomaram a primeira e a segunda dose de alguma vacina contra a convid-19?\n",
      "15977\n",
      "Total recebido: 15.977\n"
     ]
    }
   ],
   "source": [
    "print('14 – Qual o total de pessoas com comorbidades vacinados, ou seja, que tomaram a primeira e a segunda dose de alguma vacina contra a convid-19?')\n",
    "print( '%d' % total_recebido)\n",
    "print('Total recebido: {:,}'.format(total_recebido).replace(',','.'))"
   ]
  },
  {
   "cell_type": "code",
   "execution_count": 33,
   "id": "biological-bulgarian",
   "metadata": {},
   "outputs": [
    {
     "name": "stdout",
     "output_type": "stream",
     "text": [
      "15 – Qual a porcentagem, em relação ao total de munícipes de Jacareí, que representa as pessoas com comorbidades que tomaram a primeira dose de alguma vacina contra a convid-19?\n",
      "A porcentagem, em relação ao total de munícipes de Jacareí: 6.79 %\n"
     ]
    }
   ],
   "source": [
    "print('15 – Qual a porcentagem, em relação ao total de munícipes de Jacareí, que representa as pessoas com comorbidades que tomaram a primeira dose de alguma vacina contra a convid-19?')\n",
    "porcentagem = percentual(valores['CORMOB 1'].sum())\n",
    "print(\"A porcentagem, em relação ao total de munícipes de Jacareí: {:.2f} %\".format(porcentagem))"
   ]
  },
  {
   "cell_type": "code",
   "execution_count": 34,
   "id": "cosmetic-sandwich",
   "metadata": {},
   "outputs": [
    {
     "name": "stdout",
     "output_type": "stream",
     "text": [
      "16 – Qual a porcentagem, em relação ao total de munícipes de Jacareí, que representa as pessoas com comorbidades vacinados contra a convid-19, ou seja, que tomaram a primeira e a segunda dose de alguma vacina contra a covid-19?\n",
      "A porcentagem, em relação ao total de munícipes de Jacareí: 6.79 %\n"
     ]
    }
   ],
   "source": [
    "print('16 – Qual a porcentagem, em relação ao total de munícipes de Jacareí, que representa as pessoas com comorbidades vacinados contra a convid-19, ou seja, que tomaram a primeira e a segunda dose de alguma vacina contra a covid-19?')\n",
    "porcentagem = percentual(valores['CORMOB 1'].sum() + valores['CORMOB 2'].sum())\n",
    "print(\"A porcentagem, em relação ao total de munícipes de Jacareí: {:.2f} %\".format(porcentagem))"
   ]
  },
  {
   "cell_type": "code",
   "execution_count": 47,
   "id": "complimentary-trunk",
   "metadata": {},
   "outputs": [
    {
     "name": "stdout",
     "output_type": "stream",
     "text": [
      "17 – Qual o total de vacinas aplicadas e quanto isto representa em porcentagem ao total de vacinas recebidas pelo munícipio de Jacareí?\n",
      "Total aplicado: 39.979\n",
      "Total recebido: 69.824\n",
      "Percentual: 57.26 %\n"
     ]
    }
   ],
   "source": [
    "print('17 – Qual o total de vacinas aplicadas e quanto isto representa em porcentagem ao total de vacinas recebidas pelo munícipio de Jacareí?')\n",
    "total_aplicado = int(valores['SAUDE 1'].sum() + valores['SAUDE 2'].sum() + valores['EDUC 1'].sum() + valores['EDUC 2'].sum() + valores['IDOSO 1'].sum() + valores['IDOSO 2'].sum())\n",
    "print('Total aplicado: {:,}'.format(total_aplicado).replace(',','.'))\n",
    "\n",
    "total_recebido = int(valores['CORO 1'].sum() + valores['CORO 2'].sum() + valores['ASTRA 1'].sum() + valores['ASTRA 2'].sum())\n",
    "print('Total recebido: {:,}'.format(total_recebido).replace(',','.'))\n",
    "print('Percentual: {:.2f} %'.format( total_aplicado*100/total_recebido, ' %'))"
   ]
  },
  {
   "cell_type": "code",
   "execution_count": 48,
   "id": "disturbed-intermediate",
   "metadata": {},
   "outputs": [
    {
     "name": "stdout",
     "output_type": "stream",
     "text": [
      "18 – Dado que o município de Jacareí recebeu vacinas de apenas dois laboratórios até o momento, qual o total de vacinas recebidas de cada laboratório e qual o percentual de cada um em relação ao total de vacinas recebidas?\n",
      "Total recebido: 69824\n",
      "Total recebido:  69824\n",
      "Total recebido: 69,824\n",
      "Total recebido: 69.824\n",
      "Total recebido de Coronavac:  25930\n",
      "Total recebido de Coronavac: 25.930\n",
      "Total recebido de Astrazenica:  43894\n",
      "Total recebido de Astrazenica: 43.894\n"
     ]
    }
   ],
   "source": [
    "print('18 – Dado que o município de Jacareí recebeu vacinas de apenas dois laboratórios até o momento, qual o total de vacinas recebidas de cada laboratório e qual o percentual de cada um em relação ao total de vacinas recebidas?')\n",
    "total_recebido = int(valores['CORO 1'].sum() + valores['CORO 2'].sum() + valores['ASTRA 1'].sum() + valores['ASTRA 2'].sum())\n",
    "\n",
    "print('Total recebido: %d'% total_recebido)\n",
    "print('Total recebido: ', total_recebido)\n",
    "\n",
    "# FORMATAÇÃO DE NUMERO PARA O PADRÃO BRASILEIRO\n",
    "\n",
    "print('Total recebido: {0:,}'.format(total_recebido))\n",
    "print('Total recebido: {0:,}'.format(total_recebido).replace(',','.'))\n",
    "\n",
    "total_recebido_CORO = int(valores['CORO 1'].sum() + valores['CORO 2'].sum())\n",
    "print('Total recebido de Coronavac: ', total_recebido_CORO)\n",
    "print('Total recebido de Coronavac: {0:,}'.format(total_recebido_CORO).replace(',','.'))\n",
    "\n",
    "\n",
    "total_recebido_ASTRA = int(valores['ASTRA 1'].sum() + valores['ASTRA 2'].sum())\n",
    "print('Total recebido de Astrazenica: ', total_recebido_ASTRA)\n",
    "print('Total recebido de Astrazenica: {0:,}'.format(total_recebido_ASTRA).replace(',','.'))\n",
    "\n"
   ]
  },
  {
   "cell_type": "code",
   "execution_count": null,
   "id": "invisible-astrology",
   "metadata": {},
   "outputs": [],
   "source": []
  }
 ],
 "metadata": {
  "kernelspec": {
   "display_name": "Python 3",
   "language": "python",
   "name": "python3"
  },
  "language_info": {
   "codemirror_mode": {
    "name": "ipython",
    "version": 3
   },
   "file_extension": ".py",
   "mimetype": "text/x-python",
   "name": "python",
   "nbconvert_exporter": "python",
   "pygments_lexer": "ipython3",
   "version": "3.7.8"
  }
 },
 "nbformat": 4,
 "nbformat_minor": 5
}
