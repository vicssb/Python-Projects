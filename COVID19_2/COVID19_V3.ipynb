{
 "cells": [
  {
   "cell_type": "code",
   "execution_count": null,
   "id": "deluxe-musical",
   "metadata": {},
   "outputs": [],
   "source": [
    "'''\n",
    "projeto COVID 19\n",
    "\n",
    "1 – Qual o total de profissionais da Saudade que tomaram a primeira dose de alguma vacina contra a convid-19?\n",
    "\n",
    "2 – Qual o total de profissionais da Saudade vacinados, ou seja, que tomaram a primeira e a segunda dose de alguma vacina contra a convid-19?\n",
    "\n",
    "3 – Qual a porcentagem, em relação ao total de munícipes de Jacareí, que representa os profissionais da Saudade que tomaram a primeira dose de alguma vacina contra a convid-19?\n",
    "\n",
    "4 – Qual a porcentagem, em relação ao total de munícipes de Jacareí, que representa os profissionais da Saudade vacinados contra a convid-19, ou seja, que tomaram a primeira e a segunda dose de alguma vacina contra a covid-19?\n",
    "\n",
    "5 – Qual o total de profissionais da Educação que tomaram a primeira dose de alguma vacina contra a convid-19?\n",
    "\n",
    "6 – Qual o total de profissionais da Educação vacinados, ou seja, que tomaram a primeira e a segunda dose de alguma vacina contra a convid-19?\n",
    "\n",
    "7 – Qual a porcentagem, em relação ao total de munícipes de Jacareí, que representa os profissionais da Educação que tomaram a primeira dose de alguma vacina contra a convid-19?\n",
    "\n",
    "8 – Qual a porcentagem, em relação ao total de munícipes de Jacareí, que representa os profissionais da Educação vacinados contra a convid-19, ou seja, que tomaram a primeira e a segunda dose de alguma vacina contra a covid-19?\n",
    "\n",
    "9 – Qual o total de idosos que tomaram a primeira dose de alguma vacina contra a convid-19?\n",
    "\n",
    "10 – Qual o total de idosos, ou seja, que tomaram a primeira e a segunda dose de alguma vacina contra a convid-19?\n",
    "\n",
    "11 – Qual a porcentagem, em relação ao total de munícipes de Jacareí, que representa os Idosos que tomaram a primeira dose de alguma vacina contra a convid-19?\n",
    "\n",
    "12 – Qual a porcentagem, em relação ao total de munícipes de Jacareí, que representa os Idosos vacinados contra a convid-19, ou seja, que tomaram a primeira e a segunda dose de alguma vacina contra a covid-19?\n",
    "\n",
    "13 – Qual o total de pessoas com comorbidades que tomaram a primeira dose de alguma vacina contra a convid-19?\n",
    "\n",
    "14 – Qual o total de pessoas com comorbidades vacinados, ou seja, que tomaram a primeira e a segunda dose de alguma vacina contra a convid-19?\n",
    "\n",
    "15 – Qual a porcentagem, em relação ao total de munícipes de Jacareí, que representa as pessoas com comorbidades que tomaram a primeira dose de alguma vacina contra a convid-19?\n",
    "\n",
    "16 – Qual a porcentagem, em relação ao total de munícipes de Jacareí, que representa as pessoas com comorbidades vacinados contra a convid-19, ou seja, que tomaram a primeira e a segunda dose de alguma vacina contra a covid-19?\n",
    "\n",
    "17 – Qual o total de vacinas aplicadas e quanto isto representa em porcentagem ao total de vacinas recebidas pelo munícipio de Jacareí?\n",
    "\n",
    "18 – Dado que o município de Jacareí recebeu vacinas de apenas dois laboratórios até o momento, qual o total de vacinas recebidas de cada laboratório e qual o percentual de cada um em relação ao total de vacinas recebidas?'''"
   ]
  },
  {
   "cell_type": "code",
   "execution_count": null,
   "id": "facial-memorial",
   "metadata": {},
   "outputs": [],
   "source": [
    "print('COVID 19')"
   ]
  },
  {
   "cell_type": "code",
   "execution_count": null,
   "id": "communist-moderator",
   "metadata": {},
   "outputs": [],
   "source": [
    "import pandas as pd"
   ]
  },
  {
   "cell_type": "code",
   "execution_count": null,
   "id": "senior-election",
   "metadata": {},
   "outputs": [],
   "source": [
    "#constante\n",
    "POPULACAO = 235416"
   ]
  },
  {
   "cell_type": "code",
   "execution_count": null,
   "id": "breeding-paste",
   "metadata": {},
   "outputs": [],
   "source": [
    "#calcula a porcentagem em relação a população\n",
    "def percentual(valor):\n",
    "    perc = (valor * 100) / POPULACAO\n",
    "    return perc"
   ]
  },
  {
   "cell_type": "code",
   "execution_count": null,
   "id": "fundamental-knight",
   "metadata": {},
   "outputs": [],
   "source": [
    "#leitura do arquivo de texto\n",
    "valores = pd.read_csv(\"COVID19.CSV\", ';')\n",
    "print('Valores lidos:')\n",
    "#print(valores)\n",
    "print(valores.describe())\n",
    "print(valores.index)"
   ]
  },
  {
   "cell_type": "code",
   "execution_count": 7,
   "id": "sexual-northern",
   "metadata": {},
   "outputs": [
    {
     "name": "stdout",
     "output_type": "stream",
     "text": [
      "1 – Qual o total de profissionais da Saudade que tomaram a primeira dose de alguma vacina contra a convid-19?\n",
      "301.355\n"
     ]
    }
   ],
   "source": [
    "print('1 – Qual o total de profissionais da Saudade que tomaram a primeira dose de alguma vacina contra a convid-19?')\n",
    "print(valores['SAUDE 1'].sum())"
   ]
  },
  {
   "cell_type": "code",
   "execution_count": 8,
   "id": "auburn-compiler",
   "metadata": {},
   "outputs": [
    {
     "name": "stdout",
     "output_type": "stream",
     "text": [
      "2 – Qual o total de profissionais da Saudade vacinados, ou seja, que tomaram a primeira e a segunda dose de alguma vacina contra a convid-19?\n",
      "542.85\n"
     ]
    }
   ],
   "source": [
    "print('2 – Qual o total de profissionais da Saudade vacinados, ou seja, que tomaram a primeira e a segunda dose de alguma vacina contra a convid-19?')\n",
    "print(valores['SAUDE 1'].sum() + valores['SAUDE 2'].sum())"
   ]
  },
  {
   "cell_type": "code",
   "execution_count": 9,
   "id": "younger-flight",
   "metadata": {},
   "outputs": [
    {
     "name": "stdout",
     "output_type": "stream",
     "text": [
      "3 – Qual a porcentagem, em relação ao total de munícipes de Jacareí, que representa os profissionais da Saudade que tomaram a primeira dose de alguma vacina contra a convid-19?\n",
      "0.1280095660447888\n"
     ]
    }
   ],
   "source": [
    "print('3 – Qual a porcentagem, em relação ao total de munícipes de Jacareí, que representa os profissionais da Saudade que tomaram a primeira dose de alguma vacina contra a convid-19?')\n",
    "print(percentual(valores['SAUDE 1'].sum()))"
   ]
  },
  {
   "cell_type": "code",
   "execution_count": 10,
   "id": "quality-boulder",
   "metadata": {},
   "outputs": [
    {
     "name": "stdout",
     "output_type": "stream",
     "text": [
      "4 – Qual a porcentagem, em relação ao total de munícipes de Jacareí, que representa os profissionais da Saudade vacinados contra a convid-19, ou seja, que tomaram a primeira e a segunda dose de alguma vacina contra a covid-19?\n",
      "0.23059180344581506\n"
     ]
    }
   ],
   "source": [
    "print('4 – Qual a porcentagem, em relação ao total de munícipes de Jacareí, que representa os profissionais da Saudade vacinados contra a convid-19, ou seja, que tomaram a primeira e a segunda dose de alguma vacina contra a covid-19?')\n",
    "print(percentual(valores['SAUDE 1'].sum() + valores['SAUDE 2'].sum()))"
   ]
  },
  {
   "cell_type": "code",
   "execution_count": 11,
   "id": "molecular-interview",
   "metadata": {},
   "outputs": [
    {
     "name": "stdout",
     "output_type": "stream",
     "text": [
      "5 – Qual o total de profissionais da Educação que tomaram a primeira dose de alguma vacina contra a convid-19?\n",
      "51.501\n"
     ]
    }
   ],
   "source": [
    "print('5 – Qual o total de profissionais da Educação que tomaram a primeira dose de alguma vacina contra a convid-19?')\n",
    "print(valores['EDUC 1'].sum())"
   ]
  },
  {
   "cell_type": "code",
   "execution_count": 12,
   "id": "published-harrison",
   "metadata": {},
   "outputs": [
    {
     "name": "stdout",
     "output_type": "stream",
     "text": [
      "6 – Qual o total de profissionais da Educação vacinados, ou seja, que tomaram a primeira e a segunda dose de alguma vacina contra a convid-19?\n",
      "75.636\n"
     ]
    }
   ],
   "source": [
    "print('6 – Qual o total de profissionais da Educação vacinados, ou seja, que tomaram a primeira e a segunda dose de alguma vacina contra a convid-19?')\n",
    "print(valores['EDUC 1'].sum() + valores['EDUC 2'].sum())"
   ]
  },
  {
   "cell_type": "code",
   "execution_count": 13,
   "id": "productive-divorce",
   "metadata": {},
   "outputs": [
    {
     "name": "stdout",
     "output_type": "stream",
     "text": [
      "7 – Qual a porcentagem, em relação ao total de munícipes de Jacareí, que representa os profissionais da Educação que tomaram a primeira dose de alguma vacina contra a convid-19?\n",
      "0.021876592924864918\n"
     ]
    }
   ],
   "source": [
    "print('7 – Qual a porcentagem, em relação ao total de munícipes de Jacareí, que representa os profissionais da Educação que tomaram a primeira dose de alguma vacina contra a convid-19?')\n",
    "print(percentual(valores['EDUC 1'].sum()))"
   ]
  },
  {
   "cell_type": "code",
   "execution_count": 14,
   "id": "legitimate-deployment",
   "metadata": {},
   "outputs": [
    {
     "name": "stdout",
     "output_type": "stream",
     "text": [
      "8 – Qual a porcentagem, em relação ao total de munícipes de Jacareí, que representa os profissionais da Educação vacinados contra a convid-19, ou seja, que tomaram a primeira e a segunda dose de alguma vacina contra a covid-19?\n",
      "0.03212865735548985\n"
     ]
    }
   ],
   "source": [
    "print('8 – Qual a porcentagem, em relação ao total de munícipes de Jacareí, que representa os profissionais da Educação vacinados contra a convid-19, ou seja, que tomaram a primeira e a segunda dose de alguma vacina contra a covid-19?')\n",
    "print(percentual(valores['EDUC 1'].sum() + valores['EDUC 2'].sum()))"
   ]
  },
  {
   "cell_type": "code",
   "execution_count": 15,
   "id": "trained-filter",
   "metadata": {},
   "outputs": [
    {
     "name": "stdout",
     "output_type": "stream",
     "text": [
      "9 – Qual o total de idosos que tomaram a primeira dose de alguma vacina contra a convid-19?\n",
      "1248.388\n"
     ]
    }
   ],
   "source": [
    "print('9 – Qual o total de idosos que tomaram a primeira dose de alguma vacina contra a convid-19?')\n",
    "print(valores['IDOSO 1'].sum())"
   ]
  },
  {
   "cell_type": "code",
   "execution_count": 16,
   "id": "accomplished-adrian",
   "metadata": {},
   "outputs": [
    {
     "name": "stdout",
     "output_type": "stream",
     "text": [
      "10 – Qual o total de idosos, ou seja, que tomaram a primeira e a segunda dose de alguma vacina contra a convid-19?\n",
      "1899.7059999999997\n"
     ]
    }
   ],
   "source": [
    "print('10 – Qual o total de idosos, ou seja, que tomaram a primeira e a segunda dose de alguma vacina contra a convid-19?')\n",
    "print(valores['IDOSO 1'].sum() + valores['IDOSO 2'].sum())"
   ]
  },
  {
   "cell_type": "code",
   "execution_count": 17,
   "id": "scientific-tamil",
   "metadata": {},
   "outputs": [
    {
     "name": "stdout",
     "output_type": "stream",
     "text": [
      "11 – Qual a porcentagem, em relação ao total de munícipes de Jacareí, que representa os Idosos que tomaram a primeira dose de alguma vacina contra a convid-19?\n",
      "0.5302902096713902\n"
     ]
    }
   ],
   "source": [
    "print('11 – Qual a porcentagem, em relação ao total de munícipes de Jacareí, que representa os Idosos que tomaram a primeira dose de alguma vacina contra a convid-19?')\n",
    "print(percentual(valores['IDOSO 1'].sum()))"
   ]
  },
  {
   "cell_type": "code",
   "execution_count": 18,
   "id": "prepared-basement",
   "metadata": {},
   "outputs": [
    {
     "name": "stdout",
     "output_type": "stream",
     "text": [
      "12 – Qual a porcentagem, em relação ao total de munícipes de Jacareí, que representa os Idosos vacinados contra a convid-19, ou seja, que tomaram a primeira e a segunda dose de alguma vacina contra a covid-19?\n",
      "0.8069570462500424\n"
     ]
    }
   ],
   "source": [
    "print('12 – Qual a porcentagem, em relação ao total de munícipes de Jacareí, que representa os Idosos vacinados contra a convid-19, ou seja, que tomaram a primeira e a segunda dose de alguma vacina contra a covid-19?')\n",
    "print(percentual(valores['IDOSO 1'].sum() + valores['IDOSO 2'].sum()))"
   ]
  },
  {
   "cell_type": "code",
   "execution_count": 19,
   "id": "aquatic-powell",
   "metadata": {},
   "outputs": [
    {
     "name": "stdout",
     "output_type": "stream",
     "text": [
      "13 – Qual o total de pessoas com comorbidades que tomaram a primeira dose de alguma vacina contra a convid-19?\n"
     ]
    }
   ],
   "source": [
    "print('13 – Qual o total de pessoas com comorbidades que tomaram a primeira dose de alguma vacina contra a convid-19?')"
   ]
  },
  {
   "cell_type": "code",
   "execution_count": 20,
   "id": "ranking-helping",
   "metadata": {},
   "outputs": [
    {
     "name": "stdout",
     "output_type": "stream",
     "text": [
      "14 – Qual o total de pessoas com comorbidades vacinados, ou seja, que tomaram a primeira e a segunda dose de alguma vacina contra a convid-19?\n"
     ]
    }
   ],
   "source": [
    "print('14 – Qual o total de pessoas com comorbidades vacinados, ou seja, que tomaram a primeira e a segunda dose de alguma vacina contra a convid-19?')"
   ]
  },
  {
   "cell_type": "code",
   "execution_count": 21,
   "id": "younger-found",
   "metadata": {},
   "outputs": [
    {
     "name": "stdout",
     "output_type": "stream",
     "text": [
      "15 – Qual a porcentagem, em relação ao total de munícipes de Jacareí, que representa as pessoas com comorbidades que tomaram a primeira dose de alguma vacina contra a convid-19?\n"
     ]
    }
   ],
   "source": [
    "print('15 – Qual a porcentagem, em relação ao total de munícipes de Jacareí, que representa as pessoas com comorbidades que tomaram a primeira dose de alguma vacina contra a convid-19?')"
   ]
  },
  {
   "cell_type": "code",
   "execution_count": 22,
   "id": "studied-newsletter",
   "metadata": {},
   "outputs": [
    {
     "name": "stdout",
     "output_type": "stream",
     "text": [
      "16 – Qual a porcentagem, em relação ao total de munícipes de Jacareí, que representa as pessoas com comorbidades vacinados contra a convid-19, ou seja, que tomaram a primeira e a segunda dose de alguma vacina contra a covid-19?\n"
     ]
    }
   ],
   "source": [
    "print('16 – Qual a porcentagem, em relação ao total de munícipes de Jacareí, que representa as pessoas com comorbidades vacinados contra a convid-19, ou seja, que tomaram a primeira e a segunda dose de alguma vacina contra a covid-19?')"
   ]
  },
  {
   "cell_type": "code",
   "execution_count": 23,
   "id": "southwest-veteran",
   "metadata": {},
   "outputs": [
    {
     "name": "stdout",
     "output_type": "stream",
     "text": [
      "17 – Qual o total de vacinas aplicadas e quanto isto representa em porcentagem ao total de vacinas recebidas pelo munícipio de Jacareí?\n",
      "total_aplicado:  2518.1919999999996\n",
      "Total recebido:  2978.9739999999997\n",
      "Percentual:  84.53219128465035  %\n"
     ]
    }
   ],
   "source": [
    "print('17 – Qual o total de vacinas aplicadas e quanto isto representa em porcentagem ao total de vacinas recebidas pelo munícipio de Jacareí?')\n",
    "total_aplicado = valores['SAUDE 1'].sum() + valores['SAUDE 2'].sum() + valores['EDUC 1'].sum() + valores['EDUC 2'].sum() + valores['IDOSO 1'].sum() + valores['IDOSO 2'].sum()\n",
    "print('total_aplicado: ',  total_aplicado)\n",
    "total_recebido = valores['CORO 1'].sum() + valores['CORO 2'].sum() + valores['ASTRA 1'].sum() + valores['ASTRA 2'].sum()\n",
    "print('Total recebido: ', total_recebido)\n",
    "print('Percentual: ', total_aplicado*100/total_recebido, ' %')"
   ]
  },
  {
   "cell_type": "code",
   "execution_count": 24,
   "id": "correct-priest",
   "metadata": {},
   "outputs": [
    {
     "name": "stdout",
     "output_type": "stream",
     "text": [
      "18 – Dado que o município de Jacareí recebeu vacinas de apenas dois laboratórios até o momento, qual o total de vacinas recebidas de cada laboratório e qual o percentual de cada um em relação ao total de vacinas recebidas?\n",
      "Total recebido:  2978.9739999999997\n",
      "Total recebido de Coronavac:  2048.482\n",
      "Total recebido de Astrazenica:  930.492\n",
      "Percentual de Coronavac:  68.76468206839  %\n",
      "Percentual de Astrazenica:  31.235317931610012  %\n"
     ]
    }
   ],
   "source": [
    "print('18 – Dado que o município de Jacareí recebeu vacinas de apenas dois laboratórios até o momento, qual o total de vacinas recebidas de cada laboratório e qual o percentual de cada um em relação ao total de vacinas recebidas?')\n",
    "total_recebido = valores['CORO 1'].sum() + valores['CORO 2'].sum() + valores['ASTRA 1'].sum() + valores['ASTRA 2'].sum()\n",
    "print('Total recebido: ', total_recebido)\n",
    "total_recebido_CORO = valores['CORO 1'].sum() + valores['CORO 2'].sum()\n",
    "print('Total recebido de Coronavac: ', total_recebido_CORO)\n",
    "total_recebido_ASTRA = valores['ASTRA 1'].sum() + valores['ASTRA 2'].sum()\n",
    "print('Total recebido de Astrazenica: ', total_recebido_ASTRA)\n",
    "\n",
    "\n",
    "print('Percentual de Coronavac: ', total_recebido_CORO*100/total_recebido, ' %')\n",
    "print('Percentual de Astrazenica: ', total_recebido_ASTRA*100/total_recebido, ' %')"
   ]
  },
  {
   "cell_type": "code",
   "execution_count": null,
   "id": "anonymous-demonstration",
   "metadata": {},
   "outputs": [],
   "source": []
  }
 ],
 "metadata": {
  "kernelspec": {
   "display_name": "Python 3",
   "language": "python",
   "name": "python3"
  },
  "language_info": {
   "codemirror_mode": {
    "name": "ipython",
    "version": 3
   },
   "file_extension": ".py",
   "mimetype": "text/x-python",
   "name": "python",
   "nbconvert_exporter": "python",
   "pygments_lexer": "ipython3",
   "version": "3.7.8"
  }
 },
 "nbformat": 4,
 "nbformat_minor": 5
}
